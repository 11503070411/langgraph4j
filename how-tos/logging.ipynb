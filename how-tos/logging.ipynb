{
 "cells": [
  {
   "cell_type": "code",
   "execution_count": 6,
   "metadata": {},
   "outputs": [],
   "source": [
    "String userHomeDir = System.getProperty(\"user.home\");\n",
    "String localRespoUrl = \"file://\" + userHomeDir + \"/.m2/repository/\";\n",
    "String slf4jVersion = \"2.0.9\""
   ]
  },
  {
   "cell_type": "code",
   "execution_count": 7,
   "metadata": {},
   "outputs": [
    {
     "ename": "RuntimeException",
     "evalue": "Existing maven repository: local",
     "output_type": "error",
     "traceback": [
      "\u001b[0m\u001b[1m\u001b[31mRuntimeException: Existing maven repository: local\n\u001b[0m",
      "\u001b[0m\u001b[1m\u001b[34m   at org.rapaio.jupyter.kernel.core.magic.dependencies.MimaDependencyManager.addMavenRepository(MimaDependencyManager.java:60)\u001b[0m",
      "\u001b[0m\u001b[1m\u001b[34m   at org.rapaio.jupyter.kernel.core.magic.handlers.DependencyHandler.evalLineAddRepo(DependencyHandler.java:160)\u001b[0m",
      "\u001b[0m\u001b[1m\u001b[34m   at org.rapaio.jupyter.kernel.core.magic.MagicHandler.eval(MagicHandler.java:40)\u001b[0m",
      "\u001b[0m\u001b[1m\u001b[34m   at org.rapaio.jupyter.kernel.core.magic.MagicEngine.eval(MagicEngine.java:95)\u001b[0m",
      "\u001b[0m\u001b[1m\u001b[34m   at org.rapaio.jupyter.kernel.core.RapaioKernel.handleExecuteRequest(RapaioKernel.java:191)\u001b[0m",
      "\u001b[0m\u001b[1m\u001b[34m   at org.rapaio.jupyter.kernel.channels.ShellChannel.lambda$bind$0(ShellChannel.java:52)\u001b[0m",
      "\u001b[0m\u001b[1m\u001b[34m   at org.rapaio.jupyter.kernel.channels.LoopThread.run(LoopThread.java:21)\u001b[0m"
     ]
    }
   ],
   "source": [
    "%dependency /add-repo local \\{localRespoUrl} release|never snapshot|always\n",
    "%dependency /list-repos"
   ]
  },
  {
   "cell_type": "code",
   "execution_count": null,
   "metadata": {},
   "outputs": [],
   "source": [
    "%dependency /add org.bsc.langgraph4j:langgraph4j-core-jdk8:1.0-SNAPSHOT\n",
    "%dependency /add org.slf4j:slf4j-jdk14:\\{slf4jVersion}\n",
    "\n",
    "%dependency /resolve"
   ]
  },
  {
   "cell_type": "markdown",
   "metadata": {},
   "source": [
    "## Initialize Logger "
   ]
  },
  {
   "cell_type": "code",
   "execution_count": 4,
   "metadata": {},
   "outputs": [],
   "source": [
    "var lm = java.util.logging.LogManager.getLogManager();\n",
    "lm.checkAccess(); \n",
    "try( var file = new java.io.FileInputStream(\"./logging.properties\")) {\n",
    "    lm.readConfiguration( file );\n",
    "    java.util.logging.Logger.getLogger(\"\").addHandler(new java.util.logging.ConsoleHandler());\n",
    "}"
   ]
  },
  {
   "cell_type": "markdown",
   "metadata": {},
   "source": [
    "## Test Logger"
   ]
  },
  {
   "cell_type": "code",
   "execution_count": 8,
   "metadata": {},
   "outputs": [
    {
     "name": "stderr",
     "output_type": "stream",
     "text": [
      "2024-09-24 17:07:12 INFO REPL.$JShell$15 do_it$ this is a info message INFO1\n",
      "2024-09-24 17:07:12 INFO REPL.$JShell$15 do_it$ this is a info message INFO1\n"
     ]
    }
   ],
   "source": [
    "\n",
    "var log = org.slf4j.LoggerFactory.getLogger(org.bsc.langgraph4j.CompiledGraph.class);\n",
    "\n",
    "\n",
    "log.trace( \"this is a trace message {}\", \"TRACE2\");\n",
    "log.info( \"this is a info message {}\", \"INFO1\");\n"
   ]
  }
 ],
 "metadata": {
  "kernelspec": {
   "display_name": "Java (rjk 2.1.0)",
   "language": "java",
   "name": "rapaio-jupyter-kernel"
  },
  "language_info": {
   "codemirror_mode": "java",
   "file_extension": ".jshell",
   "mimetype": "text/x-java-source",
   "name": "java",
   "nbconvert_exporter": "script",
   "pygments_lexer": "java",
   "version": "22.0.2"
  }
 },
 "nbformat": 4,
 "nbformat_minor": 2
}
