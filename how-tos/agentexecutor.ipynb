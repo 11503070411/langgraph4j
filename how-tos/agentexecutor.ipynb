{
 "cells": [
  {
   "cell_type": "markdown",
   "metadata": {},
   "source": [
    "## Agent Executor"
   ]
  },
  {
   "cell_type": "code",
   "execution_count": 1,
   "metadata": {},
   "outputs": [],
   "source": [
    "String userHomeDir = System.getProperty(\"user.home\");\n",
    "String localRespoUrl = \"file://\" + userHomeDir + \"/.m2/repository/\";\n",
    "String langchain4jVersion = \"0.35.0\""
   ]
  },
  {
   "cell_type": "markdown",
   "metadata": {},
   "source": [
    "add local maven repository"
   ]
  },
  {
   "cell_type": "code",
   "execution_count": null,
   "metadata": {},
   "outputs": [],
   "source": [
    "%dependency /add-repo local \\{localRespoUrl} release|never snapshot|always\n",
    "%dependency /list-repos\n"
   ]
  },
  {
   "cell_type": "markdown",
   "metadata": {},
   "source": [
    "Remove installed package from Jupiter cache"
   ]
  },
  {
   "cell_type": "code",
   "execution_count": 3,
   "metadata": {},
   "outputs": [],
   "source": [
    "%%bash \n",
    "rm -rf \\{userHomeDir}/Library/Jupyter/kernels/rapaio-jupyter-kernel/mima_cache/org/bsc/langgraph4j"
   ]
  },
  {
   "cell_type": "markdown",
   "metadata": {},
   "source": [
    "Install required maven dependencies"
   ]
  },
  {
   "cell_type": "code",
   "execution_count": null,
   "metadata": {},
   "outputs": [],
   "source": [
    "%dependency /add org.slf4j:slf4j-jdk14:2.0.9\n",
    "%dependency /add org.bsc.langgraph4j:langgraph4j-core-jdk8:1.0-SNAPSHOT\n",
    "%dependency /add org.bsc.langgraph4j:langgraph4j-langchain4j:1.0-SNAPSHOT\n",
    "%dependency /add org.bsc.langgraph4j:langgraph4j-agent-executor:1.0-SNAPSHOT\n",
    "%dependency /add dev.langchain4j:langchain4j:\\{langchain4jVersion}\n",
    "%dependency /add dev.langchain4j:langchain4j-open-ai:\\{langchain4jVersion}\n",
    "\n",
    "%dependency /resolve"
   ]
  },
  {
   "cell_type": "markdown",
   "metadata": {},
   "source": [
    "Initialize Logger"
   ]
  },
  {
   "cell_type": "code",
   "execution_count": 5,
   "metadata": {},
   "outputs": [],
   "source": [
    "try( var file = new java.io.FileInputStream(\"./logging.properties\")) {\n",
    "    var lm = java.util.logging.LogManager.getLogManager();\n",
    "    lm.checkAccess(); \n",
    "    lm.readConfiguration( file );\n",
    "}\n",
    "\n",
    "var log = org.slf4j.LoggerFactory.getLogger(\"AgentExecutor\");\n"
   ]
  },
  {
   "cell_type": "markdown",
   "metadata": {},
   "source": []
  },
  {
   "cell_type": "code",
   "execution_count": 6,
   "metadata": {},
   "outputs": [],
   "source": [
    "import dev.langchain4j.agent.tool.P;\n",
    "import dev.langchain4j.agent.tool.Tool;\n",
    "\n",
    "import java.util.Optional;\n",
    "\n",
    "import static java.lang.String.format;\n",
    "\n",
    "public class TestTool {\n",
    "    private String lastResult;\n",
    "\n",
    "    Optional<String> lastResult() {\n",
    "        return Optional.ofNullable(lastResult);\n",
    "    }\n",
    "\n",
    "    @Tool(\"tool for test AI agent executor\")\n",
    "    String execTest(@P(\"test message\") String message) {\n",
    "\n",
    "        lastResult = format( \"test tool executed: %s\", message);\n",
    "        return lastResult;\n",
    "    }\n",
    "}\n"
   ]
  },
  {
   "cell_type": "code",
   "execution_count": 17,
   "metadata": {},
   "outputs": [],
   "source": [
    "import static org.bsc.langgraph4j.StateGraph.END;\n",
    "import static org.bsc.langgraph4j.StateGraph.START;\n",
    "import org.bsc.langgraph4j.CompileConfig;\n",
    "import org.bsc.langgraph4j.RunnableConfig;\n",
    "import org.bsc.langgraph4j.checkpoint.BaseCheckpointSaver;\n",
    "import org.bsc.langgraph4j.checkpoint.MemorySaver;\n",
    "import org.bsc.langgraph4j.state.AgentState;\n",
    "import org.bsc.langgraph4j.serializer.StateSerializer;\n",
    "import org.bsc.langgraph4j.serializer.MapSerializer;\n",
    "\n",
    "import org.bsc.langgraph4j.agentexecutor.AgentExecutor;\n",
    "\n",
    "import dev.langchain4j.model.openai.OpenAiChatModel;\n",
    "\n",
    "import java.util.List;\n",
    "import java.util.Map;\n",
    "import java.util.stream.Collectors;\n",
    "\n",
    "\n",
    "\n",
    "var chatLanguageModel = OpenAiChatModel.builder()\n",
    "    .apiKey( System.getenv(\"OPENAI_API_KEY\") )\n",
    "    //.modelName( \"gpt-3.5-turbo-0125\" )\n",
    "    .modelName( \"gpt-4o-mini\" )\n",
    "    .logResponses(true)\n",
    "    .maxRetries(2)\n",
    "    .temperature(0.0)\n",
    "    .maxTokens(2000)\n",
    "    .build();\n",
    "\n",
    "var agentExecutor = new AgentExecutor();\n",
    "\n",
    "var stateGraph = agentExecutor.graphBuilder()\n",
    "        .chatLanguageModel(chatLanguageModel)\n",
    "        .objectsWithTools(List.of(new TestTool()))\n",
    "        .build();\n",
    "\n",
    "\n"
   ]
  },
  {
   "cell_type": "markdown",
   "metadata": {},
   "source": [
    "### Test 1 \n",
    "Update State replacing the 'input'"
   ]
  },
  {
   "cell_type": "code",
   "execution_count": 18,
   "metadata": {},
   "outputs": [
    {
     "name": "stderr",
     "output_type": "stream",
     "text": [
      "2024-10-05 00:18:05 FINEST org.bsc.langgraph4j.CompiledGraph$AsyncNodeGenerator <init> START\n"
     ]
    },
    {
     "name": "stdout",
     "output_type": "stream",
     "text": [
      "INTERMEDIATE STEPS: []\n"
     ]
    },
    {
     "name": "stderr",
     "output_type": "stream",
     "text": [
      "2024-10-05 00:18:06 INFO REPL.$JShell$59 do_it$ STEP: NodeOutput{node=__START__, state={input=perform test once, intermediate_steps=[]}}\n",
      "2024-10-05 00:18:06 INFO REPL.$JShell$59 do_it$ STEP: StateSnapshot{node=agent, state={input=perform test once, intermediate_steps=[], agent_outcome=AgentOutcome[action=AgentAction[toolExecutionRequest=ToolExecutionRequest { id = \"call_zd3mR7smO9qgLVgRH0mumttL\", name = \"execTest\", arguments = \"{\"message\":\"perform test once\"}\" }, log=], finish=null]}, config=RunnableConfig(threadId=test1, checkPointId=ecd9df27-7a85-4431-a1b3-cb86239decca, nextNode=action)}\n"
     ]
    },
    {
     "name": "stdout",
     "output_type": "stream",
     "text": [
      "INTERMEDIATE STEPS: [IntermediateStep[action=AgentAction[toolExecutionRequest=ToolExecutionRequest { id = \"call_zd3mR7smO9qgLVgRH0mumttL\", name = \"execTest\", arguments = \"{\"message\":\"perform test once\"}\" }, log=], observation=test tool executed: perform test once]]\n"
     ]
    },
    {
     "name": "stderr",
     "output_type": "stream",
     "text": [
      "2024-10-05 00:18:07 INFO REPL.$JShell$59 do_it$ STEP: StateSnapshot{node=action, state={input=perform test once, intermediate_steps=[IntermediateStep[action=AgentAction[toolExecutionRequest=ToolExecutionRequest { id = \"call_zd3mR7smO9qgLVgRH0mumttL\", name = \"execTest\", arguments = \"{\"message\":\"perform test once\"}\" }, log=], observation=test tool executed: perform test once]], agent_outcome=AgentOutcome[action=AgentAction[toolExecutionRequest=ToolExecutionRequest { id = \"call_zd3mR7smO9qgLVgRH0mumttL\", name = \"execTest\", arguments = \"{\"message\":\"perform test once\"}\" }, log=], finish=null]}, config=RunnableConfig(threadId=test1, checkPointId=622c5973-813d-4809-bb27-d159c34e8cb7, nextNode=agent)}\n",
      "2024-10-05 00:18:07 INFO REPL.$JShell$59 do_it$ STEP: StateSnapshot{node=agent, state={input=perform test once, intermediate_steps=[IntermediateStep[action=AgentAction[toolExecutionRequest=ToolExecutionRequest { id = \"call_zd3mR7smO9qgLVgRH0mumttL\", name = \"execTest\", arguments = \"{\"message\":\"perform test once\"}\" }, log=], observation=test tool executed: perform test once]], agent_outcome=AgentOutcome[action=null, finish=AgentFinish[returnValues={returnValues=The test has been executed with the message: \"perform test once\".}, log=The test has been executed with the message: \"perform test once\".]]}, config=RunnableConfig(threadId=test1, checkPointId=11840a8c-bebd-40f3-aa60-2fe83bde0981, nextNode=__END__)}\n",
      "2024-10-05 00:18:07 INFO REPL.$JShell$59 do_it$ STEP: NodeOutput{node=__END__, state={input=perform test once, intermediate_steps=[IntermediateStep[action=AgentAction[toolExecutionRequest=ToolExecutionRequest { id = \"call_zd3mR7smO9qgLVgRH0mumttL\", name = \"execTest\", arguments = \"{\"message\":\"perform test once\"}\" }, log=], observation=test tool executed: perform test once]], agent_outcome=AgentOutcome[action=null, finish=AgentFinish[returnValues={returnValues=The test has been executed with the message: \"perform test once\".}, log=The test has been executed with the message: \"perform test once\".]]}}\n"
     ]
    }
   ],
   "source": [
    "var saver = new MemorySaver();\n",
    "\n",
    "CompileConfig compileConfig = CompileConfig.builder()\n",
    "                .checkpointSaver( saver )\n",
    "                .build();\n",
    "\n",
    "var graph = stateGraph.compile( compileConfig );\n",
    "\n",
    "var config = RunnableConfig.builder()\n",
    "                .threadId(\"test1\")\n",
    "                .build();    \n",
    "                \n",
    "var iterator = graph.streamSnapshots( Map.of( \"input\", \"perform test once\" ), config );  \n",
    "\n",
    "for( var step : iterator ) {\n",
    "    log.info( \"STEP: {}\", step );\n",
    "}\n",
    "\n"
   ]
  },
  {
   "cell_type": "code",
   "execution_count": 19,
   "metadata": {},
   "outputs": [
    {
     "name": "stderr",
     "output_type": "stream",
     "text": [
      "2024-10-05 00:18:07 FINEST org.bsc.langgraph4j.CompiledGraph$AsyncNodeGenerator <init> RESUME REQUEST\n",
      "2024-10-05 00:18:07 FINEST org.bsc.langgraph4j.CompiledGraph$AsyncNodeGenerator <init> RESUME FROM agent\n"
     ]
    },
    {
     "name": "stdout",
     "output_type": "stream",
     "text": [
      "INTERMEDIATE STEPS: [IntermediateStep[action=AgentAction[toolExecutionRequest=ToolExecutionRequest { id = \"call_zd3mR7smO9qgLVgRH0mumttL\", name = \"execTest\", arguments = \"{\"message\":\"perform test once\"}\" }, log=], observation=test tool executed: perform test once]]\n"
     ]
    },
    {
     "name": "stderr",
     "output_type": "stream",
     "text": [
      "2024-10-05 00:18:08 INFO REPL.$JShell$60 do_it$ STEP:\n",
      " NodeOutput{node=action, state={input=perform test twice, intermediate_steps=[IntermediateStep[action=AgentAction[toolExecutionRequest=ToolExecutionRequest { id = \"call_zd3mR7smO9qgLVgRH0mumttL\", name = \"execTest\", arguments = \"{\"message\":\"perform test once\"}\" }, log=], observation=test tool executed: perform test once]], agent_outcome=AgentOutcome[action=AgentAction[toolExecutionRequest=ToolExecutionRequest { id = \"call_zd3mR7smO9qgLVgRH0mumttL\", name = \"execTest\", arguments = \"{\"message\":\"perform test once\"}\" }, log=], finish=null]}}\n",
      "2024-10-05 00:18:08 INFO REPL.$JShell$60 do_it$ STEP:\n",
      " NodeOutput{node=agent, state={input=perform test twice, intermediate_steps=[IntermediateStep[action=AgentAction[toolExecutionRequest=ToolExecutionRequest { id = \"call_zd3mR7smO9qgLVgRH0mumttL\", name = \"execTest\", arguments = \"{\"message\":\"perform test once\"}\" }, log=], observation=test tool executed: perform test once]], agent_outcome=AgentOutcome[action=AgentAction[toolExecutionRequest=ToolExecutionRequest { id = \"call_0UIBwyGjHqlPWnVOV6tLunMX\", name = \"execTest\", arguments = \"{\"message\":\"perform test again\"}\" }, log=], finish=null]}}\n"
     ]
    },
    {
     "name": "stdout",
     "output_type": "stream",
     "text": [
      "INTERMEDIATE STEPS: [IntermediateStep[action=AgentAction[toolExecutionRequest=ToolExecutionRequest { id = \"call_zd3mR7smO9qgLVgRH0mumttL\", name = \"execTest\", arguments = \"{\"message\":\"perform test once\"}\" }, log=], observation=test tool executed: perform test once], IntermediateStep[action=AgentAction[toolExecutionRequest=ToolExecutionRequest { id = \"call_0UIBwyGjHqlPWnVOV6tLunMX\", name = \"execTest\", arguments = \"{\"message\":\"perform test again\"}\" }, log=], observation=test tool executed: perform test again]]\n"
     ]
    },
    {
     "name": "stderr",
     "output_type": "stream",
     "text": [
      "2024-10-05 00:18:09 INFO REPL.$JShell$60 do_it$ STEP:\n",
      " NodeOutput{node=action, state={input=perform test twice, intermediate_steps=[IntermediateStep[action=AgentAction[toolExecutionRequest=ToolExecutionRequest { id = \"call_zd3mR7smO9qgLVgRH0mumttL\", name = \"execTest\", arguments = \"{\"message\":\"perform test once\"}\" }, log=], observation=test tool executed: perform test once], IntermediateStep[action=AgentAction[toolExecutionRequest=ToolExecutionRequest { id = \"call_0UIBwyGjHqlPWnVOV6tLunMX\", name = \"execTest\", arguments = \"{\"message\":\"perform test again\"}\" }, log=], observation=test tool executed: perform test again]], agent_outcome=AgentOutcome[action=AgentAction[toolExecutionRequest=ToolExecutionRequest { id = \"call_0UIBwyGjHqlPWnVOV6tLunMX\", name = \"execTest\", arguments = \"{\"message\":\"perform test again\"}\" }, log=], finish=null]}}\n",
      "2024-10-05 00:18:09 INFO REPL.$JShell$60 do_it$ STEP:\n",
      " NodeOutput{node=agent, state={input=perform test twice, intermediate_steps=[IntermediateStep[action=AgentAction[toolExecutionRequest=ToolExecutionRequest { id = \"call_zd3mR7smO9qgLVgRH0mumttL\", name = \"execTest\", arguments = \"{\"message\":\"perform test once\"}\" }, log=], observation=test tool executed: perform test once], IntermediateStep[action=AgentAction[toolExecutionRequest=ToolExecutionRequest { id = \"call_0UIBwyGjHqlPWnVOV6tLunMX\", name = \"execTest\", arguments = \"{\"message\":\"perform test again\"}\" }, log=], observation=test tool executed: perform test again]], agent_outcome=AgentOutcome[action=null, finish=AgentFinish[returnValues={returnValues=The tests have been executed successfully:\n",
      "\n",
      "1. **Test 1:** \"perform test once\" - Result: test tool executed.\n",
      "2. **Test 2:** \"perform test again\" - Result: test tool executed.}, log=The tests have been executed successfully:\n",
      "\n",
      "1. **Test 1:** \"perform test once\" - Result: test tool executed.\n",
      "2. **Test 2:** \"perform test again\" - Result: test tool executed.]]}}\n",
      "2024-10-05 00:18:09 INFO REPL.$JShell$60 do_it$ STEP:\n",
      " NodeOutput{node=__END__, state={input=perform test twice, intermediate_steps=[IntermediateStep[action=AgentAction[toolExecutionRequest=ToolExecutionRequest { id = \"call_zd3mR7smO9qgLVgRH0mumttL\", name = \"execTest\", arguments = \"{\"message\":\"perform test once\"}\" }, log=], observation=test tool executed: perform test once], IntermediateStep[action=AgentAction[toolExecutionRequest=ToolExecutionRequest { id = \"call_0UIBwyGjHqlPWnVOV6tLunMX\", name = \"execTest\", arguments = \"{\"message\":\"perform test again\"}\" }, log=], observation=test tool executed: perform test again]], agent_outcome=AgentOutcome[action=null, finish=AgentFinish[returnValues={returnValues=The tests have been executed successfully:\n",
      "\n",
      "1. **Test 1:** \"perform test once\" - Result: test tool executed.\n",
      "2. **Test 2:** \"perform test again\" - Result: test tool executed.}, log=The tests have been executed successfully:\n",
      "\n",
      "1. **Test 1:** \"perform test once\" - Result: test tool executed.\n",
      "2. **Test 2:** \"perform test again\" - Result: test tool executed.]]}}\n"
     ]
    }
   ],
   "source": [
    "var history = graph.getStateHistory(config).stream().collect( Collectors.toList() );\n",
    "\n",
    "var state2 =  history.get(2);\n",
    "\n",
    "var updatedConfig = graph.updateState( state2.config(), Map.of( \"input\", \"perform test twice\"), null);\n",
    "\n",
    "var iterator = graph.streamSnapshots( null, updatedConfig );  \n",
    "\n",
    "for( var step : iterator ) {\n",
    "    log.info( \"STEP:\\n {}\", step );\n",
    "}\n"
   ]
  },
  {
   "cell_type": "markdown",
   "metadata": {},
   "source": [
    "### Test 2\n",
    "Update State replacing the 'input' using a cloned state"
   ]
  },
  {
   "cell_type": "code",
   "execution_count": 20,
   "metadata": {},
   "outputs": [
    {
     "name": "stderr",
     "output_type": "stream",
     "text": [
      "2024-10-05 00:18:09 FINEST org.bsc.langgraph4j.CompiledGraph$AsyncNodeGenerator <init> START\n"
     ]
    },
    {
     "name": "stdout",
     "output_type": "stream",
     "text": [
      "INTERMEDIATE STEPS: []\n"
     ]
    },
    {
     "name": "stderr",
     "output_type": "stream",
     "text": [
      "2024-10-05 00:18:10 INFO REPL.$JShell$61 do_it$ STEP: NodeOutput{node=__START__, state={input=perform test once, intermediate_steps=[]}}\n",
      "2024-10-05 00:18:10 INFO REPL.$JShell$61 do_it$ STEP: StateSnapshot{node=agent, state={input=perform test once, intermediate_steps=[], agent_outcome=AgentOutcome[action=AgentAction[toolExecutionRequest=ToolExecutionRequest { id = \"call_TwegBFM5iEBqFKxXcl8WzKpl\", name = \"execTest\", arguments = \"{\"message\":\"perform test once\"}\" }, log=], finish=null]}, config=RunnableConfig(threadId=test2, checkPointId=adb7d6ce-5d09-41cc-9984-27d0c73b6e6f, nextNode=action)}\n"
     ]
    },
    {
     "name": "stdout",
     "output_type": "stream",
     "text": [
      "INTERMEDIATE STEPS: [IntermediateStep[action=AgentAction[toolExecutionRequest=ToolExecutionRequest { id = \"call_TwegBFM5iEBqFKxXcl8WzKpl\", name = \"execTest\", arguments = \"{\"message\":\"perform test once\"}\" }, log=], observation=test tool executed: perform test once]]\n"
     ]
    },
    {
     "name": "stderr",
     "output_type": "stream",
     "text": [
      "2024-10-05 00:18:11 INFO REPL.$JShell$61 do_it$ STEP: StateSnapshot{node=action, state={input=perform test once, intermediate_steps=[IntermediateStep[action=AgentAction[toolExecutionRequest=ToolExecutionRequest { id = \"call_TwegBFM5iEBqFKxXcl8WzKpl\", name = \"execTest\", arguments = \"{\"message\":\"perform test once\"}\" }, log=], observation=test tool executed: perform test once]], agent_outcome=AgentOutcome[action=AgentAction[toolExecutionRequest=ToolExecutionRequest { id = \"call_TwegBFM5iEBqFKxXcl8WzKpl\", name = \"execTest\", arguments = \"{\"message\":\"perform test once\"}\" }, log=], finish=null]}, config=RunnableConfig(threadId=test2, checkPointId=d02625e3-44d1-4f2a-8e9a-9a3710956677, nextNode=agent)}\n",
      "2024-10-05 00:18:11 INFO REPL.$JShell$61 do_it$ STEP: StateSnapshot{node=agent, state={input=perform test once, intermediate_steps=[IntermediateStep[action=AgentAction[toolExecutionRequest=ToolExecutionRequest { id = \"call_TwegBFM5iEBqFKxXcl8WzKpl\", name = \"execTest\", arguments = \"{\"message\":\"perform test once\"}\" }, log=], observation=test tool executed: perform test once]], agent_outcome=AgentOutcome[action=null, finish=AgentFinish[returnValues={returnValues=The test has been executed with the message: \"perform test once\".}, log=The test has been executed with the message: \"perform test once\".]]}, config=RunnableConfig(threadId=test2, checkPointId=7da32324-bd76-4eaf-9718-79a5f444b628, nextNode=__END__)}\n",
      "2024-10-05 00:18:11 INFO REPL.$JShell$61 do_it$ STEP: NodeOutput{node=__END__, state={input=perform test once, intermediate_steps=[IntermediateStep[action=AgentAction[toolExecutionRequest=ToolExecutionRequest { id = \"call_TwegBFM5iEBqFKxXcl8WzKpl\", name = \"execTest\", arguments = \"{\"message\":\"perform test once\"}\" }, log=], observation=test tool executed: perform test once]], agent_outcome=AgentOutcome[action=null, finish=AgentFinish[returnValues={returnValues=The test has been executed with the message: \"perform test once\".}, log=The test has been executed with the message: \"perform test once\".]]}}\n"
     ]
    }
   ],
   "source": [
    "\n",
    "var config = RunnableConfig.builder()\n",
    "                .threadId(\"test2\")\n",
    "                .build();    \n",
    "                \n",
    "var iterator = graph.streamSnapshots( Map.of( \"input\", \"perform test once\" ), config );  \n",
    "\n",
    "for( var step : iterator ) {\n",
    "    log.info( \"STEP: {}\", step );\n",
    "}\n",
    "\n"
   ]
  },
  {
   "cell_type": "code",
   "execution_count": 21,
   "metadata": {},
   "outputs": [
    {
     "name": "stderr",
     "output_type": "stream",
     "text": [
      "2024-10-05 00:18:11 INFO REPL.$JShell$63 do_it$ UPDATED CONFIG: RunnableConfig(threadId=test2, checkPointId=adb7d6ce-5d09-41cc-9984-27d0c73b6e6f, nextNode=null)\n",
      "2024-10-05 00:18:11 FINEST org.bsc.langgraph4j.CompiledGraph$AsyncNodeGenerator <init> RESUME REQUEST\n",
      "2024-10-05 00:18:11 FINEST org.bsc.langgraph4j.CompiledGraph$AsyncNodeGenerator <init> RESUME FROM agent\n"
     ]
    },
    {
     "name": "stdout",
     "output_type": "stream",
     "text": [
      "INTERMEDIATE STEPS: [IntermediateStep[action=AgentAction[toolExecutionRequest=ToolExecutionRequest { id = \"call_TwegBFM5iEBqFKxXcl8WzKpl\", name = \"execTest\", arguments = \"{\"message\":\"perform test once\"}\" }, log=], observation=test tool executed: perform test once]]\n"
     ]
    },
    {
     "name": "stderr",
     "output_type": "stream",
     "text": [
      "2024-10-05 00:18:12 INFO REPL.$JShell$64 do_it$ STEP:\n",
      " NodeOutput{node=action, state={input=perform test twice, intermediate_steps=[IntermediateStep[action=AgentAction[toolExecutionRequest=ToolExecutionRequest { id = \"call_TwegBFM5iEBqFKxXcl8WzKpl\", name = \"execTest\", arguments = \"{\"message\":\"perform test once\"}\" }, log=], observation=test tool executed: perform test once]], agent_outcome=AgentOutcome[action=AgentAction[toolExecutionRequest=ToolExecutionRequest { id = \"call_TwegBFM5iEBqFKxXcl8WzKpl\", name = \"execTest\", arguments = \"{\"message\":\"perform test once\"}\" }, log=], finish=null]}}\n",
      "2024-10-05 00:18:12 INFO REPL.$JShell$64 do_it$ STEP:\n",
      " NodeOutput{node=agent, state={input=perform test twice, intermediate_steps=[IntermediateStep[action=AgentAction[toolExecutionRequest=ToolExecutionRequest { id = \"call_TwegBFM5iEBqFKxXcl8WzKpl\", name = \"execTest\", arguments = \"{\"message\":\"perform test once\"}\" }, log=], observation=test tool executed: perform test once]], agent_outcome=AgentOutcome[action=AgentAction[toolExecutionRequest=ToolExecutionRequest { id = \"call_S5LxTLBtpLdqVQcypdYdVCTF\", name = \"execTest\", arguments = \"{\"message\":\"perform test again\"}\" }, log=], finish=null]}}\n"
     ]
    },
    {
     "name": "stdout",
     "output_type": "stream",
     "text": [
      "INTERMEDIATE STEPS: [IntermediateStep[action=AgentAction[toolExecutionRequest=ToolExecutionRequest { id = \"call_TwegBFM5iEBqFKxXcl8WzKpl\", name = \"execTest\", arguments = \"{\"message\":\"perform test once\"}\" }, log=], observation=test tool executed: perform test once], IntermediateStep[action=AgentAction[toolExecutionRequest=ToolExecutionRequest { id = \"call_S5LxTLBtpLdqVQcypdYdVCTF\", name = \"execTest\", arguments = \"{\"message\":\"perform test again\"}\" }, log=], observation=test tool executed: perform test again]]\n"
     ]
    },
    {
     "name": "stderr",
     "output_type": "stream",
     "text": [
      "2024-10-05 00:18:13 INFO REPL.$JShell$64 do_it$ STEP:\n",
      " NodeOutput{node=action, state={input=perform test twice, intermediate_steps=[IntermediateStep[action=AgentAction[toolExecutionRequest=ToolExecutionRequest { id = \"call_TwegBFM5iEBqFKxXcl8WzKpl\", name = \"execTest\", arguments = \"{\"message\":\"perform test once\"}\" }, log=], observation=test tool executed: perform test once], IntermediateStep[action=AgentAction[toolExecutionRequest=ToolExecutionRequest { id = \"call_S5LxTLBtpLdqVQcypdYdVCTF\", name = \"execTest\", arguments = \"{\"message\":\"perform test again\"}\" }, log=], observation=test tool executed: perform test again]], agent_outcome=AgentOutcome[action=AgentAction[toolExecutionRequest=ToolExecutionRequest { id = \"call_S5LxTLBtpLdqVQcypdYdVCTF\", name = \"execTest\", arguments = \"{\"message\":\"perform test again\"}\" }, log=], finish=null]}}\n",
      "2024-10-05 00:18:13 INFO REPL.$JShell$64 do_it$ STEP:\n",
      " NodeOutput{node=agent, state={input=perform test twice, intermediate_steps=[IntermediateStep[action=AgentAction[toolExecutionRequest=ToolExecutionRequest { id = \"call_TwegBFM5iEBqFKxXcl8WzKpl\", name = \"execTest\", arguments = \"{\"message\":\"perform test once\"}\" }, log=], observation=test tool executed: perform test once], IntermediateStep[action=AgentAction[toolExecutionRequest=ToolExecutionRequest { id = \"call_S5LxTLBtpLdqVQcypdYdVCTF\", name = \"execTest\", arguments = \"{\"message\":\"perform test again\"}\" }, log=], observation=test tool executed: perform test again]], agent_outcome=AgentOutcome[action=null, finish=AgentFinish[returnValues={returnValues=The tests have been executed successfully:\n",
      "\n",
      "1. **Test 1:** \"perform test once\" - Result: test tool executed.\n",
      "2. **Test 2:** \"perform test again\" - Result: test tool executed.}, log=The tests have been executed successfully:\n",
      "\n",
      "1. **Test 1:** \"perform test once\" - Result: test tool executed.\n",
      "2. **Test 2:** \"perform test again\" - Result: test tool executed.]]}}\n",
      "2024-10-05 00:18:13 INFO REPL.$JShell$64 do_it$ STEP:\n",
      " NodeOutput{node=__END__, state={input=perform test twice, intermediate_steps=[IntermediateStep[action=AgentAction[toolExecutionRequest=ToolExecutionRequest { id = \"call_TwegBFM5iEBqFKxXcl8WzKpl\", name = \"execTest\", arguments = \"{\"message\":\"perform test once\"}\" }, log=], observation=test tool executed: perform test once], IntermediateStep[action=AgentAction[toolExecutionRequest=ToolExecutionRequest { id = \"call_S5LxTLBtpLdqVQcypdYdVCTF\", name = \"execTest\", arguments = \"{\"message\":\"perform test again\"}\" }, log=], observation=test tool executed: perform test again]], agent_outcome=AgentOutcome[action=null, finish=AgentFinish[returnValues={returnValues=The tests have been executed successfully:\n",
      "\n",
      "1. **Test 1:** \"perform test once\" - Result: test tool executed.\n",
      "2. **Test 2:** \"perform test again\" - Result: test tool executed.}, log=The tests have been executed successfully:\n",
      "\n",
      "1. **Test 1:** \"perform test once\" - Result: test tool executed.\n",
      "2. **Test 2:** \"perform test again\" - Result: test tool executed.]]}}\n"
     ]
    }
   ],
   "source": [
    "var history = graph.getStateHistory(config).stream().collect( Collectors.toList() );\n",
    "\n",
    "var state2 =  history.get(2);\n",
    "\n",
    "var updatedState = MapSerializer.of().cloneObject( state2.state().data() );\n",
    "\n",
    "//System.out.println( state2.state().data() );\n",
    "updatedState.put(  \"input\", \"perform test twice\"  );\n",
    "//System.out.println( updatedState );\n",
    "\n",
    "var updatedConfig = graph.updateState( state2.config(), updatedState );\n",
    "log.info( \"UPDATED CONFIG: {}\", updatedConfig );\n",
    "\n",
    "var iterator = graph.streamSnapshots( null, updatedConfig );  \n",
    "\n",
    "try {\n",
    "    for( var step : iterator ) {\n",
    "        log.info( \"STEP:\\n {}\", step );\n",
    "    }    \n",
    "}\n",
    "catch( Exception e ) {\n",
    "    Throwable t = e ;\n",
    "    while( t.getCause() != null ) {\n",
    "        t = t.getCause();\n",
    "    }\n",
    "    t.printStackTrace();\n",
    "}\n"
   ]
  }
 ],
 "metadata": {
  "kernelspec": {
   "display_name": "Java (rjk 2.1.0)",
   "language": "java",
   "name": "rapaio-jupyter-kernel"
  },
  "language_info": {
   "codemirror_mode": "java",
   "file_extension": ".jshell",
   "mimetype": "text/x-java-source",
   "name": "java",
   "nbconvert_exporter": "script",
   "pygments_lexer": "java",
   "version": "22.0.2+9-70"
  }
 },
 "nbformat": 4,
 "nbformat_minor": 2
}
