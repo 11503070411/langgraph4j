{
 "cells": [
  {
   "cell_type": "markdown",
   "metadata": {},
   "source": [
    "## Agent Executor"
   ]
  },
  {
   "cell_type": "code",
   "execution_count": 1,
   "metadata": {},
   "outputs": [],
   "source": [
    "String userHomeDir = System.getProperty(\"user.home\");\n",
    "String localRespoUrl = \"file://\" + userHomeDir + \"/.m2/repository/\";\n",
    "String langchain4jVersion = \"0.35.0\""
   ]
  },
  {
   "cell_type": "markdown",
   "metadata": {},
   "source": [
    "add local maven repository"
   ]
  },
  {
   "cell_type": "code",
   "execution_count": 2,
   "metadata": {},
   "outputs": [
    {
     "name": "stdout",
     "output_type": "stream",
     "text": [
      "\u001b[0mRepository \u001b[1m\u001b[32mlocal\u001b[0m url: \u001b[1m\u001b[32mfile:///Users/bsorrentino/.m2/repository/\u001b[0m added.\n",
      "\u001b[0mRepositories count: 5\n",
      "\u001b[0mname: \u001b[1m\u001b[32mcentral \u001b[0murl: \u001b[1m\u001b[32mhttps://repo.maven.apache.org/maven2/ \u001b[0mrelease:\u001b[32mtrue \u001b[0mupdate:\u001b[32mnever \u001b[0msnapshot:\u001b[32mfalse \u001b[0mupdate:\u001b[32mnever \n",
      "\u001b[0m\u001b[0mname: \u001b[1m\u001b[32mjcenter \u001b[0murl: \u001b[1m\u001b[32mhttps://jcenter.bintray.com/ \u001b[0mrelease:\u001b[32mtrue \u001b[0mupdate:\u001b[32mnever \u001b[0msnapshot:\u001b[32mfalse \u001b[0mupdate:\u001b[32mnever \n",
      "\u001b[0m\u001b[0mname: \u001b[1m\u001b[32mjboss \u001b[0murl: \u001b[1m\u001b[32mhttps://repository.jboss.org/nexus/content/repositories/releases/ \u001b[0mrelease:\u001b[32mtrue \u001b[0mupdate:\u001b[32mnever \u001b[0msnapshot:\u001b[32mfalse \u001b[0mupdate:\u001b[32mnever \n",
      "\u001b[0m\u001b[0mname: \u001b[1m\u001b[32matlassian \u001b[0murl: \u001b[1m\u001b[32mhttps://packages.atlassian.com/maven/public \u001b[0mrelease:\u001b[32mtrue \u001b[0mupdate:\u001b[32mnever \u001b[0msnapshot:\u001b[32mfalse \u001b[0mupdate:\u001b[32mnever \n",
      "\u001b[0m\u001b[0mname: \u001b[1m\u001b[32mlocal \u001b[0murl: \u001b[1m\u001b[32mfile:///Users/bsorrentino/.m2/repository/ \u001b[0mrelease:\u001b[32mtrue \u001b[0mupdate:\u001b[32mnever \u001b[0msnapshot:\u001b[32mtrue \u001b[0mupdate:\u001b[32malways \n",
      "\u001b[0m"
     ]
    }
   ],
   "source": [
    "%dependency /add-repo local \\{localRespoUrl} release|never snapshot|always\n",
    "%dependency /list-repos\n"
   ]
  },
  {
   "cell_type": "markdown",
   "metadata": {},
   "source": [
    "Remove installed package from Jupiter cache"
   ]
  },
  {
   "cell_type": "code",
   "execution_count": 3,
   "metadata": {},
   "outputs": [],
   "source": [
    "%%bash \n",
    "rm -rf \\{userHomeDir}/Library/Jupyter/kernels/rapaio-jupyter-kernel/mima_cache/org/bsc/langgraph4j"
   ]
  },
  {
   "cell_type": "markdown",
   "metadata": {},
   "source": [
    "Install required maven dependencies"
   ]
  },
  {
   "cell_type": "code",
   "execution_count": 4,
   "metadata": {},
   "outputs": [
    {
     "name": "stdout",
     "output_type": "stream",
     "text": [
      "Adding dependency \u001b[0m\u001b[1m\u001b[32morg.slf4j:slf4j-jdk14:2.0.9\n",
      "\u001b[0mAdding dependency \u001b[0m\u001b[1m\u001b[32morg.bsc.langgraph4j:langgraph4j-core-jdk8:1.0-SNAPSHOT\n",
      "\u001b[0mAdding dependency \u001b[0m\u001b[1m\u001b[32morg.bsc.langgraph4j:langgraph4j-langchain4j:1.0-SNAPSHOT\n",
      "\u001b[0mAdding dependency \u001b[0m\u001b[1m\u001b[32morg.bsc.langgraph4j:langgraph4j-agent-executor:1.0-SNAPSHOT\n",
      "\u001b[0mAdding dependency \u001b[0m\u001b[1m\u001b[32mdev.langchain4j:langchain4j:0.35.0\n",
      "\u001b[0mAdding dependency \u001b[0m\u001b[1m\u001b[32mdev.langchain4j:langchain4j-open-ai:0.35.0\n",
      "\u001b[0mSolving dependencies\n",
      "Resolved artifacts count: 27\n",
      "Add to classpath: \u001b[0m\u001b[32m/Users/bsorrentino/Library/Jupyter/kernels/rapaio-jupyter-kernel/mima_cache/org/slf4j/slf4j-jdk14/2.0.9/slf4j-jdk14-2.0.9.jar\u001b[0m\n",
      "\u001b[0mAdd to classpath: \u001b[0m\u001b[32m/Users/bsorrentino/Library/Jupyter/kernels/rapaio-jupyter-kernel/mima_cache/org/slf4j/slf4j-api/2.0.9/slf4j-api-2.0.9.jar\u001b[0m\n",
      "\u001b[0mAdd to classpath: \u001b[0m\u001b[32m/Users/bsorrentino/Library/Jupyter/kernels/rapaio-jupyter-kernel/mima_cache/org/bsc/langgraph4j/langgraph4j-core-jdk8/1.0-SNAPSHOT/langgraph4j-core-jdk8-1.0-SNAPSHOT.jar\u001b[0m\n",
      "\u001b[0mAdd to classpath: \u001b[0m\u001b[32m/Users/bsorrentino/Library/Jupyter/kernels/rapaio-jupyter-kernel/mima_cache/org/bsc/async/async-generator-jdk8/2.0.1/async-generator-jdk8-2.0.1.jar\u001b[0m\n",
      "\u001b[0mAdd to classpath: \u001b[0m\u001b[32m/Users/bsorrentino/Library/Jupyter/kernels/rapaio-jupyter-kernel/mima_cache/org/bsc/langgraph4j/langgraph4j-langchain4j/1.0-SNAPSHOT/langgraph4j-langchain4j-1.0-SNAPSHOT.jar\u001b[0m\n",
      "\u001b[0mAdd to classpath: \u001b[0m\u001b[32m/Users/bsorrentino/Library/Jupyter/kernels/rapaio-jupyter-kernel/mima_cache/org/bsc/langgraph4j/langgraph4j-agent-executor/1.0-SNAPSHOT/langgraph4j-agent-executor-1.0-SNAPSHOT.jar\u001b[0m\n",
      "\u001b[0mAdd to classpath: \u001b[0m\u001b[32m/Users/bsorrentino/Library/Jupyter/kernels/rapaio-jupyter-kernel/mima_cache/dev/langchain4j/langchain4j/0.35.0/langchain4j-0.35.0.jar\u001b[0m\n",
      "\u001b[0mAdd to classpath: \u001b[0m\u001b[32m/Users/bsorrentino/Library/Jupyter/kernels/rapaio-jupyter-kernel/mima_cache/dev/langchain4j/langchain4j-core/0.35.0/langchain4j-core-0.35.0.jar\u001b[0m\n",
      "\u001b[0mAdd to classpath: \u001b[0m\u001b[32m/Users/bsorrentino/Library/Jupyter/kernels/rapaio-jupyter-kernel/mima_cache/com/google/code/gson/gson/2.10.1/gson-2.10.1.jar\u001b[0m\n",
      "\u001b[0mAdd to classpath: \u001b[0m\u001b[32m/Users/bsorrentino/Library/Jupyter/kernels/rapaio-jupyter-kernel/mima_cache/org/apache/opennlp/opennlp-tools/1.9.4/opennlp-tools-1.9.4.jar\u001b[0m\n",
      "\u001b[0mAdd to classpath: \u001b[0m\u001b[32m/Users/bsorrentino/Library/Jupyter/kernels/rapaio-jupyter-kernel/mima_cache/dev/langchain4j/langchain4j-open-ai/0.35.0/langchain4j-open-ai-0.35.0.jar\u001b[0m\n",
      "\u001b[0mAdd to classpath: \u001b[0m\u001b[32m/Users/bsorrentino/Library/Jupyter/kernels/rapaio-jupyter-kernel/mima_cache/dev/ai4j/openai4j/0.22.0/openai4j-0.22.0.jar\u001b[0m\n",
      "\u001b[0mAdd to classpath: \u001b[0m\u001b[32m/Users/bsorrentino/Library/Jupyter/kernels/rapaio-jupyter-kernel/mima_cache/com/squareup/retrofit2/retrofit/2.9.0/retrofit-2.9.0.jar\u001b[0m\n",
      "\u001b[0mAdd to classpath: \u001b[0m\u001b[32m/Users/bsorrentino/Library/Jupyter/kernels/rapaio-jupyter-kernel/mima_cache/com/squareup/retrofit2/converter-jackson/2.9.0/converter-jackson-2.9.0.jar\u001b[0m\n",
      "\u001b[0mAdd to classpath: \u001b[0m\u001b[32m/Users/bsorrentino/Library/Jupyter/kernels/rapaio-jupyter-kernel/mima_cache/com/fasterxml/jackson/core/jackson-databind/2.17.2/jackson-databind-2.17.2.jar\u001b[0m\n",
      "\u001b[0mAdd to classpath: \u001b[0m\u001b[32m/Users/bsorrentino/Library/Jupyter/kernels/rapaio-jupyter-kernel/mima_cache/com/fasterxml/jackson/core/jackson-annotations/2.17.2/jackson-annotations-2.17.2.jar\u001b[0m\n",
      "\u001b[0mAdd to classpath: \u001b[0m\u001b[32m/Users/bsorrentino/Library/Jupyter/kernels/rapaio-jupyter-kernel/mima_cache/com/fasterxml/jackson/core/jackson-core/2.17.2/jackson-core-2.17.2.jar\u001b[0m\n",
      "\u001b[0mAdd to classpath: \u001b[0m\u001b[32m/Users/bsorrentino/Library/Jupyter/kernels/rapaio-jupyter-kernel/mima_cache/com/squareup/okhttp3/okhttp/4.12.0/okhttp-4.12.0.jar\u001b[0m\n",
      "\u001b[0mAdd to classpath: \u001b[0m\u001b[32m/Users/bsorrentino/Library/Jupyter/kernels/rapaio-jupyter-kernel/mima_cache/com/squareup/okio/okio/3.6.0/okio-3.6.0.jar\u001b[0m\n",
      "\u001b[0mAdd to classpath: \u001b[0m\u001b[32m/Users/bsorrentino/Library/Jupyter/kernels/rapaio-jupyter-kernel/mima_cache/com/squareup/okio/okio-jvm/3.6.0/okio-jvm-3.6.0.jar\u001b[0m\n",
      "\u001b[0mAdd to classpath: \u001b[0m\u001b[32m/Users/bsorrentino/Library/Jupyter/kernels/rapaio-jupyter-kernel/mima_cache/com/squareup/okhttp3/okhttp-sse/4.12.0/okhttp-sse-4.12.0.jar\u001b[0m\n",
      "\u001b[0mAdd to classpath: \u001b[0m\u001b[32m/Users/bsorrentino/Library/Jupyter/kernels/rapaio-jupyter-kernel/mima_cache/org/jetbrains/kotlin/kotlin-stdlib-jdk8/1.9.10/kotlin-stdlib-jdk8-1.9.10.jar\u001b[0m\n",
      "\u001b[0mAdd to classpath: \u001b[0m\u001b[32m/Users/bsorrentino/Library/Jupyter/kernels/rapaio-jupyter-kernel/mima_cache/org/jetbrains/kotlin/kotlin-stdlib/1.9.10/kotlin-stdlib-1.9.10.jar\u001b[0m\n",
      "\u001b[0mAdd to classpath: \u001b[0m\u001b[32m/Users/bsorrentino/Library/Jupyter/kernels/rapaio-jupyter-kernel/mima_cache/org/jetbrains/kotlin/kotlin-stdlib-common/1.9.10/kotlin-stdlib-common-1.9.10.jar\u001b[0m\n",
      "\u001b[0mAdd to classpath: \u001b[0m\u001b[32m/Users/bsorrentino/Library/Jupyter/kernels/rapaio-jupyter-kernel/mima_cache/org/jetbrains/annotations/13.0/annotations-13.0.jar\u001b[0m\n",
      "\u001b[0mAdd to classpath: \u001b[0m\u001b[32m/Users/bsorrentino/Library/Jupyter/kernels/rapaio-jupyter-kernel/mima_cache/org/jetbrains/kotlin/kotlin-stdlib-jdk7/1.9.10/kotlin-stdlib-jdk7-1.9.10.jar\u001b[0m\n",
      "\u001b[0mAdd to classpath: \u001b[0m\u001b[32m/Users/bsorrentino/Library/Jupyter/kernels/rapaio-jupyter-kernel/mima_cache/com/knuddels/jtokkit/1.1.0/jtokkit-1.1.0.jar\u001b[0m\n",
      "\u001b[0m"
     ]
    }
   ],
   "source": [
    "%dependency /add org.slf4j:slf4j-jdk14:2.0.9\n",
    "%dependency /add org.bsc.langgraph4j:langgraph4j-core-jdk8:1.0-SNAPSHOT\n",
    "%dependency /add org.bsc.langgraph4j:langgraph4j-langchain4j:1.0-SNAPSHOT\n",
    "%dependency /add org.bsc.langgraph4j:langgraph4j-agent-executor:1.0-SNAPSHOT\n",
    "%dependency /add dev.langchain4j:langchain4j:\\{langchain4jVersion}\n",
    "%dependency /add dev.langchain4j:langchain4j-open-ai:\\{langchain4jVersion}\n",
    "\n",
    "%dependency /resolve"
   ]
  },
  {
   "cell_type": "markdown",
   "metadata": {},
   "source": [
    "Initialize Logger"
   ]
  },
  {
   "cell_type": "code",
   "execution_count": 5,
   "metadata": {},
   "outputs": [],
   "source": [
    "try( var file = new java.io.FileInputStream(\"./logging.properties\")) {\n",
    "    var lm = java.util.logging.LogManager.getLogManager();\n",
    "    lm.checkAccess(); \n",
    "    lm.readConfiguration( file );\n",
    "}\n",
    "\n",
    "var log = org.slf4j.LoggerFactory.getLogger(\"AgentExecutor\");\n"
   ]
  },
  {
   "cell_type": "markdown",
   "metadata": {},
   "source": []
  },
  {
   "cell_type": "code",
   "execution_count": 6,
   "metadata": {},
   "outputs": [],
   "source": [
    "import dev.langchain4j.agent.tool.P;\n",
    "import dev.langchain4j.agent.tool.Tool;\n",
    "\n",
    "import java.util.Optional;\n",
    "\n",
    "import static java.lang.String.format;\n",
    "\n",
    "public class TestTool {\n",
    "    private String lastResult;\n",
    "\n",
    "    Optional<String> lastResult() {\n",
    "        return Optional.ofNullable(lastResult);\n",
    "    }\n",
    "\n",
    "    @Tool(\"tool for test AI agent executor\")\n",
    "    String execTest(@P(\"test message\") String message) {\n",
    "\n",
    "        lastResult = format( \"test tool executed: %s\", message);\n",
    "        return lastResult;\n",
    "    }\n",
    "}\n"
   ]
  },
  {
   "cell_type": "code",
   "execution_count": 7,
   "metadata": {},
   "outputs": [],
   "source": [
    "import static org.bsc.langgraph4j.StateGraph.END;\n",
    "import static org.bsc.langgraph4j.StateGraph.START;\n",
    "import org.bsc.langgraph4j.CompileConfig;\n",
    "import org.bsc.langgraph4j.RunnableConfig;\n",
    "import org.bsc.langgraph4j.checkpoint.BaseCheckpointSaver;\n",
    "import org.bsc.langgraph4j.checkpoint.MemorySaver;\n",
    "import org.bsc.langgraph4j.state.AgentState;\n",
    "import org.bsc.langgraph4j.serializer.StateSerializer;\n",
    "\n",
    "import org.bsc.langgraph4j.agentexecutor.AgentExecutor;\n",
    "\n",
    "import dev.langchain4j.model.openai.OpenAiChatModel;\n",
    "\n",
    "import java.util.List;\n",
    "import java.util.Map;\n",
    "import java.util.stream.Collectors;\n",
    "\n",
    "\n",
    "\n",
    "var chatLanguageModel = OpenAiChatModel.builder()\n",
    "    .apiKey( System.getenv(\"OPENAI_API_KEY\") )\n",
    "    //.modelName( \"gpt-3.5-turbo-0125\" )\n",
    "    .modelName( \"gpt-4o-mini\" )\n",
    "    .logResponses(true)\n",
    "    .maxRetries(2)\n",
    "    .temperature(0.0)\n",
    "    .maxTokens(2000)\n",
    "    .build();\n",
    "\n",
    "var agentExecutor = new AgentExecutor();\n",
    "\n",
    "var stateGraph = agentExecutor.graphBuilder()\n",
    "        .chatLanguageModel(chatLanguageModel)\n",
    "        .objectsWithTools(List.of(new TestTool()))\n",
    "        .build();\n",
    "\n",
    "\n"
   ]
  },
  {
   "cell_type": "markdown",
   "metadata": {},
   "source": [
    "### Test 1 \n",
    "Update State replacing the 'input'"
   ]
  },
  {
   "cell_type": "code",
   "execution_count": 8,
   "metadata": {},
   "outputs": [
    {
     "name": "stderr",
     "output_type": "stream",
     "text": [
      "2024-10-11 13:05:40 FINEST org.bsc.langgraph4j.CompiledGraph$AsyncNodeGenerator <init> START\n",
      "2024-10-11 13:05:40 FINEST org.bsc.langgraph4j.agentexecutor.AgentExecutor callAgent callAgent\n",
      "2024-10-11 13:05:42 INFO REPL.$JShell$37 do_it$ STEP: NodeOutput{node=__START__, state={input=perform test once, intermediate_steps=[]}}\n",
      "2024-10-11 13:05:42 FINEST org.bsc.langgraph4j.agentexecutor.AgentExecutor executeTools executeTools\n",
      "2024-10-11 13:05:42 FINEST org.bsc.langgraph4j.langchain4j.tool.ToolNode execute execute: execTest\n",
      "2024-10-11 13:05:42 INFO REPL.$JShell$37 do_it$ STEP: StateSnapshot{node=agent, state={input=perform test once, intermediate_steps=[], agent_outcome=AgentOutcome[action=AgentAction[toolExecutionRequest=ToolExecutionRequest { id = \"call_IWpeVQWcA0B2GJzXbQiLCQHL\", name = \"execTest\", arguments = \"{\"message\":\"perform test once\"}\" }, log=], finish=null]}, config=RunnableConfig(threadId=test1, checkPointId=dbe479ed-21dd-4e9b-bef8-3f4fda0abdb9, nextNode=action, streamMode=SNAPSHOTS)}\n",
      "2024-10-11 13:05:42 FINEST org.bsc.langgraph4j.agentexecutor.AgentExecutor callAgent callAgent\n",
      "2024-10-11 13:05:43 INFO REPL.$JShell$37 do_it$ STEP: StateSnapshot{node=action, state={input=perform test once, intermediate_steps=[IntermediateStep[action=AgentAction[toolExecutionRequest=ToolExecutionRequest { id = \"call_IWpeVQWcA0B2GJzXbQiLCQHL\", name = \"execTest\", arguments = \"{\"message\":\"perform test once\"}\" }, log=], observation=test tool executed: perform test once]], agent_outcome=AgentOutcome[action=AgentAction[toolExecutionRequest=ToolExecutionRequest { id = \"call_IWpeVQWcA0B2GJzXbQiLCQHL\", name = \"execTest\", arguments = \"{\"message\":\"perform test once\"}\" }, log=], finish=null]}, config=RunnableConfig(threadId=test1, checkPointId=7e382592-e877-46db-947a-f6c20ed00133, nextNode=agent, streamMode=SNAPSHOTS)}\n",
      "2024-10-11 13:05:43 INFO REPL.$JShell$37 do_it$ STEP: StateSnapshot{node=agent, state={input=perform test once, intermediate_steps=[IntermediateStep[action=AgentAction[toolExecutionRequest=ToolExecutionRequest { id = \"call_IWpeVQWcA0B2GJzXbQiLCQHL\", name = \"execTest\", arguments = \"{\"message\":\"perform test once\"}\" }, log=], observation=test tool executed: perform test once]], agent_outcome=AgentOutcome[action=null, finish=AgentFinish[returnValues={returnValues=The test has been executed with the message: \"perform test once\".}, log=The test has been executed with the message: \"perform test once\".]]}, config=RunnableConfig(threadId=test1, checkPointId=b450e944-ba09-4aa4-8903-92e600f3e251, nextNode=__END__, streamMode=SNAPSHOTS)}\n",
      "2024-10-11 13:05:43 INFO REPL.$JShell$37 do_it$ STEP: NodeOutput{node=__END__, state={input=perform test once, intermediate_steps=[IntermediateStep[action=AgentAction[toolExecutionRequest=ToolExecutionRequest { id = \"call_IWpeVQWcA0B2GJzXbQiLCQHL\", name = \"execTest\", arguments = \"{\"message\":\"perform test once\"}\" }, log=], observation=test tool executed: perform test once]], agent_outcome=AgentOutcome[action=null, finish=AgentFinish[returnValues={returnValues=The test has been executed with the message: \"perform test once\".}, log=The test has been executed with the message: \"perform test once\".]]}}\n"
     ]
    }
   ],
   "source": [
    "var saver = new MemorySaver();\n",
    "\n",
    "CompileConfig compileConfig = CompileConfig.builder()\n",
    "                .checkpointSaver( saver )\n",
    "                .build();\n",
    "\n",
    "var graph = stateGraph.compile( compileConfig );\n",
    "\n",
    "var config = RunnableConfig.builder()\n",
    "                .threadId(\"test1\")\n",
    "                .build();    \n",
    "                \n",
    "var iterator = graph.streamSnapshots( Map.of( \"input\", \"perform test once\" ), config );  \n",
    "\n",
    "for( var step : iterator ) {\n",
    "    log.info( \"STEP: {}\", step );\n",
    "}\n",
    "\n"
   ]
  },
  {
   "cell_type": "code",
   "execution_count": 9,
   "metadata": {},
   "outputs": [
    {
     "name": "stderr",
     "output_type": "stream",
     "text": [
      "2024-10-11 13:05:43 FINEST org.bsc.langgraph4j.CompiledGraph$AsyncNodeGenerator <init> RESUME REQUEST\n",
      "2024-10-11 13:05:43 FINEST org.bsc.langgraph4j.CompiledGraph$AsyncNodeGenerator <init> RESUME FROM agent\n",
      "2024-10-11 13:05:43 FINEST org.bsc.langgraph4j.agentexecutor.AgentExecutor executeTools executeTools\n",
      "2024-10-11 13:05:43 FINEST org.bsc.langgraph4j.langchain4j.tool.ToolNode execute execute: execTest\n",
      "2024-10-11 13:05:43 FINEST org.bsc.langgraph4j.agentexecutor.AgentExecutor callAgent callAgent\n",
      "2024-10-11 13:05:44 INFO REPL.$JShell$41 do_it$ STEP:\n",
      " StateSnapshot{node=action, state={input=perform test twice, intermediate_steps=[IntermediateStep[action=AgentAction[toolExecutionRequest=ToolExecutionRequest { id = \"call_IWpeVQWcA0B2GJzXbQiLCQHL\", name = \"execTest\", arguments = \"{\"message\":\"perform test once\"}\" }, log=], observation=test tool executed: perform test once]], agent_outcome=AgentOutcome[action=AgentAction[toolExecutionRequest=ToolExecutionRequest { id = \"call_IWpeVQWcA0B2GJzXbQiLCQHL\", name = \"execTest\", arguments = \"{\"message\":\"perform test once\"}\" }, log=], finish=null]}, config=RunnableConfig(threadId=test1, checkPointId=171ba325-e803-4a08-a4fc-c23a3dcbd7ef, nextNode=agent, streamMode=SNAPSHOTS)}\n",
      "2024-10-11 13:05:44 FINEST org.bsc.langgraph4j.agentexecutor.AgentExecutor executeTools executeTools\n",
      "2024-10-11 13:05:44 FINEST org.bsc.langgraph4j.langchain4j.tool.ToolNode execute execute: execTest\n",
      "2024-10-11 13:05:44 INFO REPL.$JShell$41 do_it$ STEP:\n",
      " StateSnapshot{node=agent, state={input=perform test twice, intermediate_steps=[IntermediateStep[action=AgentAction[toolExecutionRequest=ToolExecutionRequest { id = \"call_IWpeVQWcA0B2GJzXbQiLCQHL\", name = \"execTest\", arguments = \"{\"message\":\"perform test once\"}\" }, log=], observation=test tool executed: perform test once]], agent_outcome=AgentOutcome[action=AgentAction[toolExecutionRequest=ToolExecutionRequest { id = \"call_ZFTeqmQgcEegRyb0Xoi2f6PY\", name = \"execTest\", arguments = \"{\"message\":\"perform test again\"}\" }, log=], finish=null]}, config=RunnableConfig(threadId=test1, checkPointId=89fe550d-c356-4354-b076-4fc8ad6e127a, nextNode=action, streamMode=SNAPSHOTS)}\n",
      "2024-10-11 13:05:44 FINEST org.bsc.langgraph4j.agentexecutor.AgentExecutor callAgent callAgent\n",
      "2024-10-11 13:05:46 INFO REPL.$JShell$41 do_it$ STEP:\n",
      " StateSnapshot{node=action, state={input=perform test twice, intermediate_steps=[IntermediateStep[action=AgentAction[toolExecutionRequest=ToolExecutionRequest { id = \"call_IWpeVQWcA0B2GJzXbQiLCQHL\", name = \"execTest\", arguments = \"{\"message\":\"perform test once\"}\" }, log=], observation=test tool executed: perform test once], IntermediateStep[action=AgentAction[toolExecutionRequest=ToolExecutionRequest { id = \"call_ZFTeqmQgcEegRyb0Xoi2f6PY\", name = \"execTest\", arguments = \"{\"message\":\"perform test again\"}\" }, log=], observation=test tool executed: perform test again]], agent_outcome=AgentOutcome[action=AgentAction[toolExecutionRequest=ToolExecutionRequest { id = \"call_ZFTeqmQgcEegRyb0Xoi2f6PY\", name = \"execTest\", arguments = \"{\"message\":\"perform test again\"}\" }, log=], finish=null]}, config=RunnableConfig(threadId=test1, checkPointId=9aded304-4a2a-4c84-8cdb-53622d50dda2, nextNode=agent, streamMode=SNAPSHOTS)}\n",
      "2024-10-11 13:05:46 INFO REPL.$JShell$41 do_it$ STEP:\n",
      " StateSnapshot{node=agent, state={input=perform test twice, intermediate_steps=[IntermediateStep[action=AgentAction[toolExecutionRequest=ToolExecutionRequest { id = \"call_IWpeVQWcA0B2GJzXbQiLCQHL\", name = \"execTest\", arguments = \"{\"message\":\"perform test once\"}\" }, log=], observation=test tool executed: perform test once], IntermediateStep[action=AgentAction[toolExecutionRequest=ToolExecutionRequest { id = \"call_ZFTeqmQgcEegRyb0Xoi2f6PY\", name = \"execTest\", arguments = \"{\"message\":\"perform test again\"}\" }, log=], observation=test tool executed: perform test again]], agent_outcome=AgentOutcome[action=null, finish=AgentFinish[returnValues={returnValues=The tests have been executed successfully:\n",
      "\n",
      "1. **Test 1:** \"perform test once\" - Result: test tool executed.\n",
      "2. **Test 2:** \"perform test again\" - Result: test tool executed.}, log=The tests have been executed successfully:\n",
      "\n",
      "1. **Test 1:** \"perform test once\" - Result: test tool executed.\n",
      "2. **Test 2:** \"perform test again\" - Result: test tool executed.]]}, config=RunnableConfig(threadId=test1, checkPointId=3c0170b3-c270-41f2-b59f-4cbd433e0068, nextNode=__END__, streamMode=SNAPSHOTS)}\n",
      "2024-10-11 13:05:46 INFO REPL.$JShell$41 do_it$ STEP:\n",
      " NodeOutput{node=__END__, state={input=perform test twice, intermediate_steps=[IntermediateStep[action=AgentAction[toolExecutionRequest=ToolExecutionRequest { id = \"call_IWpeVQWcA0B2GJzXbQiLCQHL\", name = \"execTest\", arguments = \"{\"message\":\"perform test once\"}\" }, log=], observation=test tool executed: perform test once], IntermediateStep[action=AgentAction[toolExecutionRequest=ToolExecutionRequest { id = \"call_ZFTeqmQgcEegRyb0Xoi2f6PY\", name = \"execTest\", arguments = \"{\"message\":\"perform test again\"}\" }, log=], observation=test tool executed: perform test again]], agent_outcome=AgentOutcome[action=null, finish=AgentFinish[returnValues={returnValues=The tests have been executed successfully:\n",
      "\n",
      "1. **Test 1:** \"perform test once\" - Result: test tool executed.\n",
      "2. **Test 2:** \"perform test again\" - Result: test tool executed.}, log=The tests have been executed successfully:\n",
      "\n",
      "1. **Test 1:** \"perform test once\" - Result: test tool executed.\n",
      "2. **Test 2:** \"perform test again\" - Result: test tool executed.]]}}\n"
     ]
    }
   ],
   "source": [
    "var history = graph.getStateHistory(config).stream().collect( Collectors.toList() );\n",
    "\n",
    "var state2 =  history.get(2);\n",
    "\n",
    "var updatedConfig = graph.updateState( state2.config(), Map.of( \"input\", \"perform test twice\"), null);\n",
    "\n",
    "var iterator = graph.streamSnapshots( null, updatedConfig );  \n",
    "\n",
    "for( var step : iterator ) {\n",
    "    log.info( \"STEP:\\n {}\", step );\n",
    "}\n"
   ]
  },
  {
   "cell_type": "markdown",
   "metadata": {},
   "source": [
    "### Test 2\n",
    "Update State replacing the 'input' using a cloned state"
   ]
  },
  {
   "cell_type": "code",
   "execution_count": 10,
   "metadata": {},
   "outputs": [
    {
     "name": "stderr",
     "output_type": "stream",
     "text": [
      "2024-10-11 13:05:46 FINEST org.bsc.langgraph4j.CompiledGraph$AsyncNodeGenerator <init> START\n",
      "2024-10-11 13:05:46 FINEST org.bsc.langgraph4j.agentexecutor.AgentExecutor callAgent callAgent\n",
      "2024-10-11 13:05:47 INFO REPL.$JShell$42 do_it$ STEP: NodeOutput{node=__START__, state={input=perform test once, intermediate_steps=[]}}\n",
      "2024-10-11 13:05:47 FINEST org.bsc.langgraph4j.agentexecutor.AgentExecutor executeTools executeTools\n",
      "2024-10-11 13:05:47 FINEST org.bsc.langgraph4j.langchain4j.tool.ToolNode execute execute: execTest\n",
      "2024-10-11 13:05:47 INFO REPL.$JShell$42 do_it$ STEP: StateSnapshot{node=agent, state={input=perform test once, intermediate_steps=[], agent_outcome=AgentOutcome[action=AgentAction[toolExecutionRequest=ToolExecutionRequest { id = \"call_BKVXOUlQmFPqydEJZ3hotT0H\", name = \"execTest\", arguments = \"{\"message\":\"perform test once\"}\" }, log=], finish=null]}, config=RunnableConfig(threadId=test2, checkPointId=c470d430-fed3-477c-a6a7-84c6e67c55e4, nextNode=action, streamMode=SNAPSHOTS)}\n",
      "2024-10-11 13:05:47 FINEST org.bsc.langgraph4j.agentexecutor.AgentExecutor callAgent callAgent\n",
      "2024-10-11 13:05:49 INFO REPL.$JShell$42 do_it$ STEP: StateSnapshot{node=action, state={input=perform test once, intermediate_steps=[IntermediateStep[action=AgentAction[toolExecutionRequest=ToolExecutionRequest { id = \"call_BKVXOUlQmFPqydEJZ3hotT0H\", name = \"execTest\", arguments = \"{\"message\":\"perform test once\"}\" }, log=], observation=test tool executed: perform test once]], agent_outcome=AgentOutcome[action=AgentAction[toolExecutionRequest=ToolExecutionRequest { id = \"call_BKVXOUlQmFPqydEJZ3hotT0H\", name = \"execTest\", arguments = \"{\"message\":\"perform test once\"}\" }, log=], finish=null]}, config=RunnableConfig(threadId=test2, checkPointId=0504ac40-f4e6-4fae-be3d-6a2b9f1562e7, nextNode=agent, streamMode=SNAPSHOTS)}\n",
      "2024-10-11 13:05:49 INFO REPL.$JShell$42 do_it$ STEP: StateSnapshot{node=agent, state={input=perform test once, intermediate_steps=[IntermediateStep[action=AgentAction[toolExecutionRequest=ToolExecutionRequest { id = \"call_BKVXOUlQmFPqydEJZ3hotT0H\", name = \"execTest\", arguments = \"{\"message\":\"perform test once\"}\" }, log=], observation=test tool executed: perform test once]], agent_outcome=AgentOutcome[action=null, finish=AgentFinish[returnValues={returnValues=The test has been executed with the message: \"perform test once\".}, log=The test has been executed with the message: \"perform test once\".]]}, config=RunnableConfig(threadId=test2, checkPointId=db351672-0f25-4120-ae28-09012ae2803b, nextNode=__END__, streamMode=SNAPSHOTS)}\n",
      "2024-10-11 13:05:49 INFO REPL.$JShell$42 do_it$ STEP: NodeOutput{node=__END__, state={input=perform test once, intermediate_steps=[IntermediateStep[action=AgentAction[toolExecutionRequest=ToolExecutionRequest { id = \"call_BKVXOUlQmFPqydEJZ3hotT0H\", name = \"execTest\", arguments = \"{\"message\":\"perform test once\"}\" }, log=], observation=test tool executed: perform test once]], agent_outcome=AgentOutcome[action=null, finish=AgentFinish[returnValues={returnValues=The test has been executed with the message: \"perform test once\".}, log=The test has been executed with the message: \"perform test once\".]]}}\n"
     ]
    }
   ],
   "source": [
    "\n",
    "var config = RunnableConfig.builder()\n",
    "                .threadId(\"test2\")\n",
    "                .build();    \n",
    "                \n",
    "var iterator = graph.streamSnapshots( Map.of( \"input\", \"perform test once\" ), config );  \n",
    "\n",
    "for( var step : iterator ) {\n",
    "    log.info( \"STEP: {}\", step );\n",
    "}\n",
    "\n"
   ]
  },
  {
   "cell_type": "code",
   "execution_count": 13,
   "metadata": {},
   "outputs": [
    {
     "name": "stderr",
     "output_type": "stream",
     "text": [
      "2024-10-11 13:06:10 INFO REPL.$JShell$49 do_it$ UPDATED CONFIG: RunnableConfig(threadId=test2, checkPointId=c470d430-fed3-477c-a6a7-84c6e67c55e4, nextNode=null, streamMode=VALUES)\n",
      "2024-10-11 13:06:10 FINEST org.bsc.langgraph4j.CompiledGraph$AsyncNodeGenerator <init> RESUME REQUEST\n",
      "2024-10-11 13:06:10 FINEST org.bsc.langgraph4j.CompiledGraph$AsyncNodeGenerator <init> RESUME FROM agent\n",
      "2024-10-11 13:06:10 FINEST org.bsc.langgraph4j.agentexecutor.AgentExecutor executeTools executeTools\n",
      "2024-10-11 13:06:10 FINEST org.bsc.langgraph4j.langchain4j.tool.ToolNode execute execute: execTest\n",
      "2024-10-11 13:06:10 FINEST org.bsc.langgraph4j.agentexecutor.AgentExecutor callAgent callAgent\n",
      "2024-10-11 13:06:11 INFO REPL.$JShell$50 do_it$ STEP:\n",
      " StateSnapshot{node=action, state={input=perform test twice, intermediate_steps=[IntermediateStep[action=AgentAction[toolExecutionRequest=ToolExecutionRequest { id = \"call_BKVXOUlQmFPqydEJZ3hotT0H\", name = \"execTest\", arguments = \"{\"message\":\"perform test once\"}\" }, log=], observation=test tool executed: perform test once]], agent_outcome=AgentOutcome[action=AgentAction[toolExecutionRequest=ToolExecutionRequest { id = \"call_BKVXOUlQmFPqydEJZ3hotT0H\", name = \"execTest\", arguments = \"{\"message\":\"perform test once\"}\" }, log=], finish=null]}, config=RunnableConfig(threadId=test2, checkPointId=92b00613-4f65-4f2a-b573-5302a46568d3, nextNode=agent, streamMode=SNAPSHOTS)}\n",
      "2024-10-11 13:06:11 FINEST org.bsc.langgraph4j.agentexecutor.AgentExecutor executeTools executeTools\n",
      "2024-10-11 13:06:11 FINEST org.bsc.langgraph4j.langchain4j.tool.ToolNode execute execute: execTest\n",
      "2024-10-11 13:06:11 INFO REPL.$JShell$50 do_it$ STEP:\n",
      " StateSnapshot{node=agent, state={input=perform test twice, intermediate_steps=[IntermediateStep[action=AgentAction[toolExecutionRequest=ToolExecutionRequest { id = \"call_BKVXOUlQmFPqydEJZ3hotT0H\", name = \"execTest\", arguments = \"{\"message\":\"perform test once\"}\" }, log=], observation=test tool executed: perform test once]], agent_outcome=AgentOutcome[action=AgentAction[toolExecutionRequest=ToolExecutionRequest { id = \"call_eUegMsToBzjw53pntENbHK6U\", name = \"execTest\", arguments = \"{\"message\":\"perform test again\"}\" }, log=], finish=null]}, config=RunnableConfig(threadId=test2, checkPointId=9ac9f853-40d1-401b-a909-4c6779e8e593, nextNode=action, streamMode=SNAPSHOTS)}\n",
      "2024-10-11 13:06:11 FINEST org.bsc.langgraph4j.agentexecutor.AgentExecutor callAgent callAgent\n",
      "2024-10-11 13:06:13 INFO REPL.$JShell$50 do_it$ STEP:\n",
      " StateSnapshot{node=action, state={input=perform test twice, intermediate_steps=[IntermediateStep[action=AgentAction[toolExecutionRequest=ToolExecutionRequest { id = \"call_BKVXOUlQmFPqydEJZ3hotT0H\", name = \"execTest\", arguments = \"{\"message\":\"perform test once\"}\" }, log=], observation=test tool executed: perform test once], IntermediateStep[action=AgentAction[toolExecutionRequest=ToolExecutionRequest { id = \"call_eUegMsToBzjw53pntENbHK6U\", name = \"execTest\", arguments = \"{\"message\":\"perform test again\"}\" }, log=], observation=test tool executed: perform test again]], agent_outcome=AgentOutcome[action=AgentAction[toolExecutionRequest=ToolExecutionRequest { id = \"call_eUegMsToBzjw53pntENbHK6U\", name = \"execTest\", arguments = \"{\"message\":\"perform test again\"}\" }, log=], finish=null]}, config=RunnableConfig(threadId=test2, checkPointId=c8a9dfb0-e902-4f16-8139-904d1b4666c7, nextNode=agent, streamMode=SNAPSHOTS)}\n",
      "2024-10-11 13:06:13 INFO REPL.$JShell$50 do_it$ STEP:\n",
      " StateSnapshot{node=agent, state={input=perform test twice, intermediate_steps=[IntermediateStep[action=AgentAction[toolExecutionRequest=ToolExecutionRequest { id = \"call_BKVXOUlQmFPqydEJZ3hotT0H\", name = \"execTest\", arguments = \"{\"message\":\"perform test once\"}\" }, log=], observation=test tool executed: perform test once], IntermediateStep[action=AgentAction[toolExecutionRequest=ToolExecutionRequest { id = \"call_eUegMsToBzjw53pntENbHK6U\", name = \"execTest\", arguments = \"{\"message\":\"perform test again\"}\" }, log=], observation=test tool executed: perform test again]], agent_outcome=AgentOutcome[action=null, finish=AgentFinish[returnValues={returnValues=The tests have been executed successfully:\n",
      "\n",
      "1. **Test 1:** \"perform test once\" - Result: test tool executed.\n",
      "2. **Test 2:** \"perform test again\" - Result: test tool executed.}, log=The tests have been executed successfully:\n",
      "\n",
      "1. **Test 1:** \"perform test once\" - Result: test tool executed.\n",
      "2. **Test 2:** \"perform test again\" - Result: test tool executed.]]}, config=RunnableConfig(threadId=test2, checkPointId=74a5a0eb-8712-4f4c-afce-df8b4e4599da, nextNode=__END__, streamMode=SNAPSHOTS)}\n",
      "2024-10-11 13:06:13 INFO REPL.$JShell$50 do_it$ STEP:\n",
      " NodeOutput{node=__END__, state={input=perform test twice, intermediate_steps=[IntermediateStep[action=AgentAction[toolExecutionRequest=ToolExecutionRequest { id = \"call_BKVXOUlQmFPqydEJZ3hotT0H\", name = \"execTest\", arguments = \"{\"message\":\"perform test once\"}\" }, log=], observation=test tool executed: perform test once], IntermediateStep[action=AgentAction[toolExecutionRequest=ToolExecutionRequest { id = \"call_eUegMsToBzjw53pntENbHK6U\", name = \"execTest\", arguments = \"{\"message\":\"perform test again\"}\" }, log=], observation=test tool executed: perform test again]], agent_outcome=AgentOutcome[action=null, finish=AgentFinish[returnValues={returnValues=The tests have been executed successfully:\n",
      "\n",
      "1. **Test 1:** \"perform test once\" - Result: test tool executed.\n",
      "2. **Test 2:** \"perform test again\" - Result: test tool executed.}, log=The tests have been executed successfully:\n",
      "\n",
      "1. **Test 1:** \"perform test once\" - Result: test tool executed.\n",
      "2. **Test 2:** \"perform test again\" - Result: test tool executed.]]}}\n"
     ]
    }
   ],
   "source": [
    "var history = graph.getStateHistory(config).stream().collect( Collectors.toList() );\n",
    "\n",
    "var state2 =  history.get(2);\n",
    "\n",
    "var updatedState = new HashMap<String,Object>();\n",
    "updatedState.putAll(state2.state().data());\n",
    "\n",
    "//System.out.println( state2.state().data() );\n",
    "updatedState.put(  \"input\", \"perform test twice\"  );\n",
    "//System.out.println( updatedState );\n",
    "\n",
    "var updatedConfig = graph.updateState( state2.config(), updatedState );\n",
    "log.info( \"UPDATED CONFIG: {}\", updatedConfig );\n",
    "\n",
    "var iterator = graph.streamSnapshots( null, updatedConfig );  \n",
    "\n",
    "try {\n",
    "    for( var step : iterator ) {\n",
    "        log.info( \"STEP:\\n {}\", step );\n",
    "    }    \n",
    "}\n",
    "catch( Exception e ) {\n",
    "    Throwable t = e ;\n",
    "    while( t.getCause() != null ) {\n",
    "        t = t.getCause();\n",
    "    }\n",
    "    t.printStackTrace();\n",
    "}\n"
   ]
  }
 ],
 "metadata": {
  "kernelspec": {
   "display_name": "Java (rjk 2.1.0)",
   "language": "java",
   "name": "rapaio-jupyter-kernel"
  },
  "language_info": {
   "codemirror_mode": "java",
   "file_extension": ".jshell",
   "mimetype": "text/x-java-source",
   "name": "java",
   "nbconvert_exporter": "script",
   "pygments_lexer": "java",
   "version": "22.0.2+9-70"
  }
 },
 "nbformat": 4,
 "nbformat_minor": 2
}
