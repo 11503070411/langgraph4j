{
 "cells": [
  {
   "cell_type": "markdown",
   "metadata": {},
   "source": [
    "# Agent Executor"
   ]
  },
  {
   "cell_type": "code",
   "execution_count": 1,
   "metadata": {},
   "outputs": [],
   "source": [
    "String userHomeDir = System.getProperty(\"user.home\");\n",
    "String localRespoUrl = \"file://\" + userHomeDir + \"/.m2/repository/\";\n",
    "String langchain4jVersion = \"0.35.0\""
   ]
  },
  {
   "cell_type": "markdown",
   "metadata": {},
   "source": [
    "add local maven repository"
   ]
  },
  {
   "cell_type": "code",
   "execution_count": 2,
   "metadata": {},
   "outputs": [
    {
     "name": "stdout",
     "output_type": "stream",
     "text": [
      "\u001b[0mRepository \u001b[1m\u001b[32mlocal\u001b[0m url: \u001b[1m\u001b[32mfile:///Users/bsorrentino/.m2/repository/\u001b[0m added.\n",
      "\u001b[0mRepositories count: 5\n",
      "\u001b[0mname: \u001b[1m\u001b[32mcentral \u001b[0murl: \u001b[1m\u001b[32mhttps://repo.maven.apache.org/maven2/ \u001b[0mrelease:\u001b[32mtrue \u001b[0mupdate:\u001b[32mnever \u001b[0msnapshot:\u001b[32mfalse \u001b[0mupdate:\u001b[32mnever \n",
      "\u001b[0m\u001b[0mname: \u001b[1m\u001b[32mjcenter \u001b[0murl: \u001b[1m\u001b[32mhttps://jcenter.bintray.com/ \u001b[0mrelease:\u001b[32mtrue \u001b[0mupdate:\u001b[32mnever \u001b[0msnapshot:\u001b[32mfalse \u001b[0mupdate:\u001b[32mnever \n",
      "\u001b[0m\u001b[0mname: \u001b[1m\u001b[32mjboss \u001b[0murl: \u001b[1m\u001b[32mhttps://repository.jboss.org/nexus/content/repositories/releases/ \u001b[0mrelease:\u001b[32mtrue \u001b[0mupdate:\u001b[32mnever \u001b[0msnapshot:\u001b[32mfalse \u001b[0mupdate:\u001b[32mnever \n",
      "\u001b[0m\u001b[0mname: \u001b[1m\u001b[32matlassian \u001b[0murl: \u001b[1m\u001b[32mhttps://packages.atlassian.com/maven/public \u001b[0mrelease:\u001b[32mtrue \u001b[0mupdate:\u001b[32mnever \u001b[0msnapshot:\u001b[32mfalse \u001b[0mupdate:\u001b[32mnever \n",
      "\u001b[0m\u001b[0mname: \u001b[1m\u001b[32mlocal \u001b[0murl: \u001b[1m\u001b[32mfile:///Users/bsorrentino/.m2/repository/ \u001b[0mrelease:\u001b[32mtrue \u001b[0mupdate:\u001b[32mnever \u001b[0msnapshot:\u001b[32mtrue \u001b[0mupdate:\u001b[32malways \n",
      "\u001b[0m"
     ]
    }
   ],
   "source": [
    "%dependency /add-repo local \\{localRespoUrl} release|never snapshot|always\n",
    "%dependency /list-repos\n"
   ]
  },
  {
   "cell_type": "markdown",
   "metadata": {},
   "source": [
    "Remove installed package from Jupiter cache"
   ]
  },
  {
   "cell_type": "code",
   "execution_count": 3,
   "metadata": {},
   "outputs": [],
   "source": [
    "%%bash \n",
    "rm -rf \\{userHomeDir}/Library/Jupyter/kernels/rapaio-jupyter-kernel/mima_cache/org/bsc/langgraph4j"
   ]
  },
  {
   "cell_type": "markdown",
   "metadata": {},
   "source": [
    "Install required maven dependencies"
   ]
  },
  {
   "cell_type": "code",
   "execution_count": 4,
   "metadata": {},
   "outputs": [
    {
     "name": "stdout",
     "output_type": "stream",
     "text": [
      "Adding dependency \u001b[0m\u001b[1m\u001b[32morg.slf4j:slf4j-jdk14:2.0.9\n",
      "\u001b[0mAdding dependency \u001b[0m\u001b[1m\u001b[32morg.bsc.langgraph4j:langgraph4j-core-jdk8:1.0-SNAPSHOT\n",
      "\u001b[0mAdding dependency \u001b[0m\u001b[1m\u001b[32morg.bsc.langgraph4j:langgraph4j-langchain4j:1.0-SNAPSHOT\n",
      "\u001b[0mAdding dependency \u001b[0m\u001b[1m\u001b[32morg.bsc.langgraph4j:langgraph4j-agent-executor:1.0-SNAPSHOT\n",
      "\u001b[0mAdding dependency \u001b[0m\u001b[1m\u001b[32mdev.langchain4j:langchain4j:0.35.0\n",
      "\u001b[0mAdding dependency \u001b[0m\u001b[1m\u001b[32mdev.langchain4j:langchain4j-open-ai:0.35.0\n",
      "\u001b[0mSolving dependencies\n",
      "Resolved artifacts count: 27\n",
      "Add to classpath: \u001b[0m\u001b[32m/Users/bsorrentino/Library/Jupyter/kernels/rapaio-jupyter-kernel/mima_cache/org/slf4j/slf4j-jdk14/2.0.9/slf4j-jdk14-2.0.9.jar\u001b[0m\n",
      "\u001b[0mAdd to classpath: \u001b[0m\u001b[32m/Users/bsorrentino/Library/Jupyter/kernels/rapaio-jupyter-kernel/mima_cache/org/slf4j/slf4j-api/2.0.9/slf4j-api-2.0.9.jar\u001b[0m\n",
      "\u001b[0mAdd to classpath: \u001b[0m\u001b[32m/Users/bsorrentino/Library/Jupyter/kernels/rapaio-jupyter-kernel/mima_cache/org/bsc/langgraph4j/langgraph4j-core-jdk8/1.0-SNAPSHOT/langgraph4j-core-jdk8-1.0-SNAPSHOT.jar\u001b[0m\n",
      "\u001b[0mAdd to classpath: \u001b[0m\u001b[32m/Users/bsorrentino/Library/Jupyter/kernels/rapaio-jupyter-kernel/mima_cache/org/bsc/async/async-generator-jdk8/2.0.1/async-generator-jdk8-2.0.1.jar\u001b[0m\n",
      "\u001b[0mAdd to classpath: \u001b[0m\u001b[32m/Users/bsorrentino/Library/Jupyter/kernels/rapaio-jupyter-kernel/mima_cache/org/bsc/langgraph4j/langgraph4j-langchain4j/1.0-SNAPSHOT/langgraph4j-langchain4j-1.0-SNAPSHOT.jar\u001b[0m\n",
      "\u001b[0mAdd to classpath: \u001b[0m\u001b[32m/Users/bsorrentino/Library/Jupyter/kernels/rapaio-jupyter-kernel/mima_cache/org/bsc/langgraph4j/langgraph4j-agent-executor/1.0-SNAPSHOT/langgraph4j-agent-executor-1.0-SNAPSHOT.jar\u001b[0m\n",
      "\u001b[0mAdd to classpath: \u001b[0m\u001b[32m/Users/bsorrentino/Library/Jupyter/kernels/rapaio-jupyter-kernel/mima_cache/dev/langchain4j/langchain4j/0.35.0/langchain4j-0.35.0.jar\u001b[0m\n",
      "\u001b[0mAdd to classpath: \u001b[0m\u001b[32m/Users/bsorrentino/Library/Jupyter/kernels/rapaio-jupyter-kernel/mima_cache/dev/langchain4j/langchain4j-core/0.35.0/langchain4j-core-0.35.0.jar\u001b[0m\n",
      "\u001b[0mAdd to classpath: \u001b[0m\u001b[32m/Users/bsorrentino/Library/Jupyter/kernels/rapaio-jupyter-kernel/mima_cache/com/google/code/gson/gson/2.10.1/gson-2.10.1.jar\u001b[0m\n",
      "\u001b[0mAdd to classpath: \u001b[0m\u001b[32m/Users/bsorrentino/Library/Jupyter/kernels/rapaio-jupyter-kernel/mima_cache/org/apache/opennlp/opennlp-tools/1.9.4/opennlp-tools-1.9.4.jar\u001b[0m\n",
      "\u001b[0mAdd to classpath: \u001b[0m\u001b[32m/Users/bsorrentino/Library/Jupyter/kernels/rapaio-jupyter-kernel/mima_cache/dev/langchain4j/langchain4j-open-ai/0.35.0/langchain4j-open-ai-0.35.0.jar\u001b[0m\n",
      "\u001b[0mAdd to classpath: \u001b[0m\u001b[32m/Users/bsorrentino/Library/Jupyter/kernels/rapaio-jupyter-kernel/mima_cache/dev/ai4j/openai4j/0.22.0/openai4j-0.22.0.jar\u001b[0m\n",
      "\u001b[0mAdd to classpath: \u001b[0m\u001b[32m/Users/bsorrentino/Library/Jupyter/kernels/rapaio-jupyter-kernel/mima_cache/com/squareup/retrofit2/retrofit/2.9.0/retrofit-2.9.0.jar\u001b[0m\n",
      "\u001b[0mAdd to classpath: \u001b[0m\u001b[32m/Users/bsorrentino/Library/Jupyter/kernels/rapaio-jupyter-kernel/mima_cache/com/squareup/retrofit2/converter-jackson/2.9.0/converter-jackson-2.9.0.jar\u001b[0m\n",
      "\u001b[0mAdd to classpath: \u001b[0m\u001b[32m/Users/bsorrentino/Library/Jupyter/kernels/rapaio-jupyter-kernel/mima_cache/com/fasterxml/jackson/core/jackson-databind/2.17.2/jackson-databind-2.17.2.jar\u001b[0m\n",
      "\u001b[0mAdd to classpath: \u001b[0m\u001b[32m/Users/bsorrentino/Library/Jupyter/kernels/rapaio-jupyter-kernel/mima_cache/com/fasterxml/jackson/core/jackson-annotations/2.17.2/jackson-annotations-2.17.2.jar\u001b[0m\n",
      "\u001b[0mAdd to classpath: \u001b[0m\u001b[32m/Users/bsorrentino/Library/Jupyter/kernels/rapaio-jupyter-kernel/mima_cache/com/fasterxml/jackson/core/jackson-core/2.17.2/jackson-core-2.17.2.jar\u001b[0m\n",
      "\u001b[0mAdd to classpath: \u001b[0m\u001b[32m/Users/bsorrentino/Library/Jupyter/kernels/rapaio-jupyter-kernel/mima_cache/com/squareup/okhttp3/okhttp/4.12.0/okhttp-4.12.0.jar\u001b[0m\n",
      "\u001b[0mAdd to classpath: \u001b[0m\u001b[32m/Users/bsorrentino/Library/Jupyter/kernels/rapaio-jupyter-kernel/mima_cache/com/squareup/okio/okio/3.6.0/okio-3.6.0.jar\u001b[0m\n",
      "\u001b[0mAdd to classpath: \u001b[0m\u001b[32m/Users/bsorrentino/Library/Jupyter/kernels/rapaio-jupyter-kernel/mima_cache/com/squareup/okio/okio-jvm/3.6.0/okio-jvm-3.6.0.jar\u001b[0m\n",
      "\u001b[0mAdd to classpath: \u001b[0m\u001b[32m/Users/bsorrentino/Library/Jupyter/kernels/rapaio-jupyter-kernel/mima_cache/com/squareup/okhttp3/okhttp-sse/4.12.0/okhttp-sse-4.12.0.jar\u001b[0m\n",
      "\u001b[0mAdd to classpath: \u001b[0m\u001b[32m/Users/bsorrentino/Library/Jupyter/kernels/rapaio-jupyter-kernel/mima_cache/org/jetbrains/kotlin/kotlin-stdlib-jdk8/1.9.10/kotlin-stdlib-jdk8-1.9.10.jar\u001b[0m\n",
      "\u001b[0mAdd to classpath: \u001b[0m\u001b[32m/Users/bsorrentino/Library/Jupyter/kernels/rapaio-jupyter-kernel/mima_cache/org/jetbrains/kotlin/kotlin-stdlib/1.9.10/kotlin-stdlib-1.9.10.jar\u001b[0m\n",
      "\u001b[0mAdd to classpath: \u001b[0m\u001b[32m/Users/bsorrentino/Library/Jupyter/kernels/rapaio-jupyter-kernel/mima_cache/org/jetbrains/kotlin/kotlin-stdlib-common/1.9.10/kotlin-stdlib-common-1.9.10.jar\u001b[0m\n",
      "\u001b[0mAdd to classpath: \u001b[0m\u001b[32m/Users/bsorrentino/Library/Jupyter/kernels/rapaio-jupyter-kernel/mima_cache/org/jetbrains/annotations/13.0/annotations-13.0.jar\u001b[0m\n",
      "\u001b[0mAdd to classpath: \u001b[0m\u001b[32m/Users/bsorrentino/Library/Jupyter/kernels/rapaio-jupyter-kernel/mima_cache/org/jetbrains/kotlin/kotlin-stdlib-jdk7/1.9.10/kotlin-stdlib-jdk7-1.9.10.jar\u001b[0m\n",
      "\u001b[0mAdd to classpath: \u001b[0m\u001b[32m/Users/bsorrentino/Library/Jupyter/kernels/rapaio-jupyter-kernel/mima_cache/com/knuddels/jtokkit/1.1.0/jtokkit-1.1.0.jar\u001b[0m\n",
      "\u001b[0m"
     ]
    }
   ],
   "source": [
    "%dependency /add org.slf4j:slf4j-jdk14:2.0.9\n",
    "%dependency /add org.bsc.langgraph4j:langgraph4j-core-jdk8:1.0-SNAPSHOT\n",
    "%dependency /add org.bsc.langgraph4j:langgraph4j-langchain4j:1.0-SNAPSHOT\n",
    "%dependency /add org.bsc.langgraph4j:langgraph4j-agent-executor:1.0-SNAPSHOT\n",
    "%dependency /add dev.langchain4j:langchain4j:\\{langchain4jVersion}\n",
    "%dependency /add dev.langchain4j:langchain4j-open-ai:\\{langchain4jVersion}\n",
    "\n",
    "%dependency /resolve"
   ]
  },
  {
   "cell_type": "markdown",
   "metadata": {},
   "source": [
    "Initialize Logger"
   ]
  },
  {
   "cell_type": "code",
   "execution_count": 5,
   "metadata": {},
   "outputs": [],
   "source": [
    "try( var file = new java.io.FileInputStream(\"./logging.properties\")) {\n",
    "    var lm = java.util.logging.LogManager.getLogManager();\n",
    "    lm.checkAccess(); \n",
    "    lm.readConfiguration( file );\n",
    "}\n",
    "\n",
    "var log = org.slf4j.LoggerFactory.getLogger(\"AgentExecutor\");\n"
   ]
  },
  {
   "cell_type": "markdown",
   "metadata": {},
   "source": []
  },
  {
   "cell_type": "markdown",
   "metadata": {},
   "source": [
    "Create Tools"
   ]
  },
  {
   "cell_type": "code",
   "execution_count": 6,
   "metadata": {},
   "outputs": [],
   "source": [
    "import dev.langchain4j.agent.tool.P;\n",
    "import dev.langchain4j.agent.tool.Tool;\n",
    "\n",
    "import java.util.Optional;\n",
    "\n",
    "import static java.lang.String.format;\n",
    "\n",
    "public class TestTool {\n",
    "    private String lastResult;\n",
    "\n",
    "    Optional<String> lastResult() {\n",
    "        return Optional.ofNullable(lastResult);\n",
    "    }\n",
    "\n",
    "    @Tool(\"tool for test AI agent executor\")\n",
    "    String execTest(@P(\"test message\") String message) {\n",
    "\n",
    "        lastResult = format( \"test tool executed: %s\", message);\n",
    "        return lastResult;\n",
    "    }\n",
    "}\n"
   ]
  },
  {
   "cell_type": "code",
   "execution_count": 7,
   "metadata": {},
   "outputs": [],
   "source": [
    "import static org.bsc.langgraph4j.StateGraph.END;\n",
    "import static org.bsc.langgraph4j.StateGraph.START;\n",
    "import org.bsc.langgraph4j.CompileConfig;\n",
    "import org.bsc.langgraph4j.RunnableConfig;\n",
    "import org.bsc.langgraph4j.checkpoint.BaseCheckpointSaver;\n",
    "import org.bsc.langgraph4j.checkpoint.MemorySaver;\n",
    "import org.bsc.langgraph4j.state.AgentState;\n",
    "import org.bsc.langgraph4j.serializer.StateSerializer;\n",
    "\n",
    "import org.bsc.langgraph4j.agentexecutor.AgentExecutor;\n",
    "\n",
    "import dev.langchain4j.model.openai.OpenAiChatModel;\n",
    "\n",
    "import java.util.List;\n",
    "import java.util.Map;\n",
    "import java.util.stream.Collectors;\n",
    "\n",
    "\n",
    "\n",
    "var chatLanguageModel = OpenAiChatModel.builder()\n",
    "    .apiKey( System.getenv(\"OPENAI_API_KEY\") )\n",
    "    //.modelName( \"gpt-3.5-turbo-0125\" )\n",
    "    .modelName( \"gpt-4o-mini\" )\n",
    "    .logResponses(true)\n",
    "    .maxRetries(2)\n",
    "    .temperature(0.0)\n",
    "    .maxTokens(2000)\n",
    "    .build();\n",
    "\n",
    "var agentExecutor = new AgentExecutor();\n",
    "\n",
    "var stateGraph = agentExecutor.graphBuilder()\n",
    "        .chatLanguageModel(chatLanguageModel)\n",
    "        .objectsWithTools(List.of(new TestTool()))\n",
    "        .build();\n",
    "\n",
    "\n"
   ]
  },
  {
   "cell_type": "markdown",
   "metadata": {},
   "source": [
    "### Test 1 \n",
    "Update State replacing the 'input'"
   ]
  },
  {
   "cell_type": "code",
   "execution_count": 8,
   "metadata": {},
   "outputs": [
    {
     "name": "stderr",
     "output_type": "stream",
     "text": [
      "2024-10-24 17:57:22 FINEST org.bsc.langgraph4j.CompiledGraph$AsyncNodeGenerator <init> START\n",
      "2024-10-24 17:57:22 FINEST org.bsc.langgraph4j.agentexecutor.AgentExecutor callAgent callAgent\n",
      "2024-10-24 17:57:24 INFO REPL.$JShell$37 do_it$ STEP: NodeOutput{node=__START__, state={input=perform test once, intermediate_steps=[]}}\n",
      "2024-10-24 17:57:24 FINEST org.bsc.langgraph4j.agentexecutor.AgentExecutor executeTools executeTools\n",
      "2024-10-24 17:57:24 FINEST org.bsc.langgraph4j.langchain4j.tool.ToolNode execute execute: execTest\n",
      "2024-10-24 17:57:24 INFO REPL.$JShell$37 do_it$ STEP: StateSnapshot{node=agent, state={input=perform test once, intermediate_steps=[], agent_outcome=AgentOutcome[action=AgentAction[toolExecutionRequest=ToolExecutionRequest { id = \"call_33DLAvIky9boYgbo7rD38G8M\", name = \"execTest\", arguments = \"{\"message\":\"perform test once\"}\" }, log=], finish=null]}, config=RunnableConfig(threadId=test1, checkPointId=6a089ecc-5cd6-43e0-83d5-8ec7ad3c91ad, nextNode=action, streamMode=SNAPSHOTS)}\n",
      "2024-10-24 17:57:24 FINEST org.bsc.langgraph4j.agentexecutor.AgentExecutor callAgent callAgent\n",
      "2024-10-24 17:57:24 INFO REPL.$JShell$37 do_it$ STEP: StateSnapshot{node=action, state={input=perform test once, intermediate_steps=[IntermediateStep[action=AgentAction[toolExecutionRequest=ToolExecutionRequest { id = \"call_33DLAvIky9boYgbo7rD38G8M\", name = \"execTest\", arguments = \"{\"message\":\"perform test once\"}\" }, log=], observation=test tool executed: perform test once]], agent_outcome=AgentOutcome[action=AgentAction[toolExecutionRequest=ToolExecutionRequest { id = \"call_33DLAvIky9boYgbo7rD38G8M\", name = \"execTest\", arguments = \"{\"message\":\"perform test once\"}\" }, log=], finish=null]}, config=RunnableConfig(threadId=test1, checkPointId=e01a2d6f-47c6-4e29-a034-cb5b2e2e2c23, nextNode=agent, streamMode=SNAPSHOTS)}\n",
      "2024-10-24 17:57:24 INFO REPL.$JShell$37 do_it$ STEP: StateSnapshot{node=agent, state={input=perform test once, intermediate_steps=[IntermediateStep[action=AgentAction[toolExecutionRequest=ToolExecutionRequest { id = \"call_33DLAvIky9boYgbo7rD38G8M\", name = \"execTest\", arguments = \"{\"message\":\"perform test once\"}\" }, log=], observation=test tool executed: perform test once]], agent_outcome=AgentOutcome[action=null, finish=AgentFinish[returnValues={returnValues=The test has been executed with the message: \"perform test once\".}, log=The test has been executed with the message: \"perform test once\".]]}, config=RunnableConfig(threadId=test1, checkPointId=2f90f85f-9027-423e-b3fc-404adae4e0c9, nextNode=__END__, streamMode=SNAPSHOTS)}\n",
      "2024-10-24 17:57:24 INFO REPL.$JShell$37 do_it$ STEP: NodeOutput{node=__END__, state={input=perform test once, intermediate_steps=[IntermediateStep[action=AgentAction[toolExecutionRequest=ToolExecutionRequest { id = \"call_33DLAvIky9boYgbo7rD38G8M\", name = \"execTest\", arguments = \"{\"message\":\"perform test once\"}\" }, log=], observation=test tool executed: perform test once]], agent_outcome=AgentOutcome[action=null, finish=AgentFinish[returnValues={returnValues=The test has been executed with the message: \"perform test once\".}, log=The test has been executed with the message: \"perform test once\".]]}}\n"
     ]
    }
   ],
   "source": [
    "var saver = new MemorySaver();\n",
    "\n",
    "CompileConfig compileConfig = CompileConfig.builder()\n",
    "                .checkpointSaver( saver )\n",
    "                .build();\n",
    "\n",
    "var graph = stateGraph.compile( compileConfig );\n",
    "\n",
    "var config = RunnableConfig.builder()\n",
    "                .threadId(\"test1\")\n",
    "                .build();    \n",
    "                \n",
    "var iterator = graph.streamSnapshots( Map.of( \"input\", \"perform test once\" ), config );  \n",
    "\n",
    "for( var step : iterator ) {\n",
    "    log.info( \"STEP: {}\", step );\n",
    "}\n",
    "\n"
   ]
  },
  {
   "cell_type": "code",
   "execution_count": 9,
   "metadata": {},
   "outputs": [
    {
     "name": "stderr",
     "output_type": "stream",
     "text": [
      "2024-10-24 17:57:25 FINEST org.bsc.langgraph4j.CompiledGraph$AsyncNodeGenerator <init> RESUME REQUEST\n",
      "2024-10-24 17:57:25 FINEST org.bsc.langgraph4j.CompiledGraph$AsyncNodeGenerator <init> RESUME FROM agent\n",
      "2024-10-24 17:57:25 FINEST org.bsc.langgraph4j.agentexecutor.AgentExecutor executeTools executeTools\n",
      "2024-10-24 17:57:25 FINEST org.bsc.langgraph4j.langchain4j.tool.ToolNode execute execute: execTest\n",
      "2024-10-24 17:57:25 FINEST org.bsc.langgraph4j.agentexecutor.AgentExecutor callAgent callAgent\n",
      "2024-10-24 17:57:25 INFO REPL.$JShell$41 do_it$ STEP:\n",
      " StateSnapshot{node=action, state={input=perform test twice, intermediate_steps=[IntermediateStep[action=AgentAction[toolExecutionRequest=ToolExecutionRequest { id = \"call_33DLAvIky9boYgbo7rD38G8M\", name = \"execTest\", arguments = \"{\"message\":\"perform test once\"}\" }, log=], observation=test tool executed: perform test once]], agent_outcome=AgentOutcome[action=AgentAction[toolExecutionRequest=ToolExecutionRequest { id = \"call_33DLAvIky9boYgbo7rD38G8M\", name = \"execTest\", arguments = \"{\"message\":\"perform test once\"}\" }, log=], finish=null]}, config=RunnableConfig(threadId=test1, checkPointId=50e480bd-9e5a-4d11-a2c2-cac15b5b7182, nextNode=agent, streamMode=SNAPSHOTS)}\n",
      "2024-10-24 17:57:25 FINEST org.bsc.langgraph4j.agentexecutor.AgentExecutor executeTools executeTools\n",
      "2024-10-24 17:57:25 FINEST org.bsc.langgraph4j.langchain4j.tool.ToolNode execute execute: execTest\n",
      "2024-10-24 17:57:25 INFO REPL.$JShell$41 do_it$ STEP:\n",
      " StateSnapshot{node=agent, state={input=perform test twice, intermediate_steps=[IntermediateStep[action=AgentAction[toolExecutionRequest=ToolExecutionRequest { id = \"call_33DLAvIky9boYgbo7rD38G8M\", name = \"execTest\", arguments = \"{\"message\":\"perform test once\"}\" }, log=], observation=test tool executed: perform test once]], agent_outcome=AgentOutcome[action=AgentAction[toolExecutionRequest=ToolExecutionRequest { id = \"call_2TlHcW2aZTe0ekvInKeCpmVg\", name = \"execTest\", arguments = \"{\"message\":\"perform test again\"}\" }, log=], finish=null]}, config=RunnableConfig(threadId=test1, checkPointId=aaf03107-4b66-4d6a-a2ff-4cdad1161f29, nextNode=action, streamMode=SNAPSHOTS)}\n",
      "2024-10-24 17:57:25 FINEST org.bsc.langgraph4j.agentexecutor.AgentExecutor callAgent callAgent\n",
      "2024-10-24 17:57:27 INFO REPL.$JShell$41 do_it$ STEP:\n",
      " StateSnapshot{node=action, state={input=perform test twice, intermediate_steps=[IntermediateStep[action=AgentAction[toolExecutionRequest=ToolExecutionRequest { id = \"call_33DLAvIky9boYgbo7rD38G8M\", name = \"execTest\", arguments = \"{\"message\":\"perform test once\"}\" }, log=], observation=test tool executed: perform test once], IntermediateStep[action=AgentAction[toolExecutionRequest=ToolExecutionRequest { id = \"call_2TlHcW2aZTe0ekvInKeCpmVg\", name = \"execTest\", arguments = \"{\"message\":\"perform test again\"}\" }, log=], observation=test tool executed: perform test again]], agent_outcome=AgentOutcome[action=AgentAction[toolExecutionRequest=ToolExecutionRequest { id = \"call_2TlHcW2aZTe0ekvInKeCpmVg\", name = \"execTest\", arguments = \"{\"message\":\"perform test again\"}\" }, log=], finish=null]}, config=RunnableConfig(threadId=test1, checkPointId=2a20847a-0167-4f40-9ccc-659b180d9207, nextNode=agent, streamMode=SNAPSHOTS)}\n",
      "2024-10-24 17:57:27 INFO REPL.$JShell$41 do_it$ STEP:\n",
      " StateSnapshot{node=agent, state={input=perform test twice, intermediate_steps=[IntermediateStep[action=AgentAction[toolExecutionRequest=ToolExecutionRequest { id = \"call_33DLAvIky9boYgbo7rD38G8M\", name = \"execTest\", arguments = \"{\"message\":\"perform test once\"}\" }, log=], observation=test tool executed: perform test once], IntermediateStep[action=AgentAction[toolExecutionRequest=ToolExecutionRequest { id = \"call_2TlHcW2aZTe0ekvInKeCpmVg\", name = \"execTest\", arguments = \"{\"message\":\"perform test again\"}\" }, log=], observation=test tool executed: perform test again]], agent_outcome=AgentOutcome[action=null, finish=AgentFinish[returnValues={returnValues=The tests have been executed successfully:\n",
      "\n",
      "1. **Test 1:** \"perform test once\" - Result: test tool executed.\n",
      "2. **Test 2:** \"perform test again\" - Result: test tool executed.}, log=The tests have been executed successfully:\n",
      "\n",
      "1. **Test 1:** \"perform test once\" - Result: test tool executed.\n",
      "2. **Test 2:** \"perform test again\" - Result: test tool executed.]]}, config=RunnableConfig(threadId=test1, checkPointId=f5ff242d-7adb-4ee4-bc45-96c5a6515d4f, nextNode=__END__, streamMode=SNAPSHOTS)}\n",
      "2024-10-24 17:57:27 INFO REPL.$JShell$41 do_it$ STEP:\n",
      " NodeOutput{node=__END__, state={input=perform test twice, intermediate_steps=[IntermediateStep[action=AgentAction[toolExecutionRequest=ToolExecutionRequest { id = \"call_33DLAvIky9boYgbo7rD38G8M\", name = \"execTest\", arguments = \"{\"message\":\"perform test once\"}\" }, log=], observation=test tool executed: perform test once], IntermediateStep[action=AgentAction[toolExecutionRequest=ToolExecutionRequest { id = \"call_2TlHcW2aZTe0ekvInKeCpmVg\", name = \"execTest\", arguments = \"{\"message\":\"perform test again\"}\" }, log=], observation=test tool executed: perform test again]], agent_outcome=AgentOutcome[action=null, finish=AgentFinish[returnValues={returnValues=The tests have been executed successfully:\n",
      "\n",
      "1. **Test 1:** \"perform test once\" - Result: test tool executed.\n",
      "2. **Test 2:** \"perform test again\" - Result: test tool executed.}, log=The tests have been executed successfully:\n",
      "\n",
      "1. **Test 1:** \"perform test once\" - Result: test tool executed.\n",
      "2. **Test 2:** \"perform test again\" - Result: test tool executed.]]}}\n"
     ]
    }
   ],
   "source": [
    "var history = graph.getStateHistory(config).stream().collect( Collectors.toList() );\n",
    "\n",
    "var state2 =  history.get(2);\n",
    "\n",
    "var updatedConfig = graph.updateState( state2.config(), Map.of( \"input\", \"perform test twice\"), null);\n",
    "\n",
    "var iterator = graph.streamSnapshots( null, updatedConfig );  \n",
    "\n",
    "for( var step : iterator ) {\n",
    "    log.info( \"STEP:\\n {}\", step );\n",
    "}\n"
   ]
  },
  {
   "cell_type": "markdown",
   "metadata": {},
   "source": [
    "### Test 2\n",
    "Update State replacing the 'input' using a cloned state"
   ]
  },
  {
   "cell_type": "code",
   "execution_count": 10,
   "metadata": {},
   "outputs": [
    {
     "name": "stderr",
     "output_type": "stream",
     "text": [
      "2024-10-24 17:57:27 FINEST org.bsc.langgraph4j.CompiledGraph$AsyncNodeGenerator <init> START\n",
      "2024-10-24 17:57:27 FINEST org.bsc.langgraph4j.agentexecutor.AgentExecutor callAgent callAgent\n",
      "2024-10-24 17:57:28 INFO REPL.$JShell$42 do_it$ STEP: NodeOutput{node=__START__, state={input=perform test once, intermediate_steps=[]}}\n",
      "2024-10-24 17:57:28 FINEST org.bsc.langgraph4j.agentexecutor.AgentExecutor executeTools executeTools\n",
      "2024-10-24 17:57:28 FINEST org.bsc.langgraph4j.langchain4j.tool.ToolNode execute execute: execTest\n",
      "2024-10-24 17:57:28 INFO REPL.$JShell$42 do_it$ STEP: StateSnapshot{node=agent, state={input=perform test once, intermediate_steps=[], agent_outcome=AgentOutcome[action=AgentAction[toolExecutionRequest=ToolExecutionRequest { id = \"call_bHyrttIOlJ1yWp4YvpbssIDK\", name = \"execTest\", arguments = \"{\"message\":\"perform test once\"}\" }, log=], finish=null]}, config=RunnableConfig(threadId=test2, checkPointId=b05cbb4e-a1e8-4b18-b9fc-bec88d729dde, nextNode=action, streamMode=SNAPSHOTS)}\n",
      "2024-10-24 17:57:28 FINEST org.bsc.langgraph4j.agentexecutor.AgentExecutor callAgent callAgent\n",
      "2024-10-24 17:57:29 INFO REPL.$JShell$42 do_it$ STEP: StateSnapshot{node=action, state={input=perform test once, intermediate_steps=[IntermediateStep[action=AgentAction[toolExecutionRequest=ToolExecutionRequest { id = \"call_bHyrttIOlJ1yWp4YvpbssIDK\", name = \"execTest\", arguments = \"{\"message\":\"perform test once\"}\" }, log=], observation=test tool executed: perform test once]], agent_outcome=AgentOutcome[action=AgentAction[toolExecutionRequest=ToolExecutionRequest { id = \"call_bHyrttIOlJ1yWp4YvpbssIDK\", name = \"execTest\", arguments = \"{\"message\":\"perform test once\"}\" }, log=], finish=null]}, config=RunnableConfig(threadId=test2, checkPointId=56b95d26-f8e3-4735-9f9d-01f078088ddd, nextNode=agent, streamMode=SNAPSHOTS)}\n",
      "2024-10-24 17:57:29 INFO REPL.$JShell$42 do_it$ STEP: StateSnapshot{node=agent, state={input=perform test once, intermediate_steps=[IntermediateStep[action=AgentAction[toolExecutionRequest=ToolExecutionRequest { id = \"call_bHyrttIOlJ1yWp4YvpbssIDK\", name = \"execTest\", arguments = \"{\"message\":\"perform test once\"}\" }, log=], observation=test tool executed: perform test once]], agent_outcome=AgentOutcome[action=null, finish=AgentFinish[returnValues={returnValues=The test has been executed with the message: \"perform test once\".}, log=The test has been executed with the message: \"perform test once\".]]}, config=RunnableConfig(threadId=test2, checkPointId=1ab7a2f1-50d5-4f9b-b02e-5e52ac9893bd, nextNode=__END__, streamMode=SNAPSHOTS)}\n",
      "2024-10-24 17:57:29 INFO REPL.$JShell$42 do_it$ STEP: NodeOutput{node=__END__, state={input=perform test once, intermediate_steps=[IntermediateStep[action=AgentAction[toolExecutionRequest=ToolExecutionRequest { id = \"call_bHyrttIOlJ1yWp4YvpbssIDK\", name = \"execTest\", arguments = \"{\"message\":\"perform test once\"}\" }, log=], observation=test tool executed: perform test once]], agent_outcome=AgentOutcome[action=null, finish=AgentFinish[returnValues={returnValues=The test has been executed with the message: \"perform test once\".}, log=The test has been executed with the message: \"perform test once\".]]}}\n"
     ]
    }
   ],
   "source": [
    "\n",
    "var config = RunnableConfig.builder()\n",
    "                .threadId(\"test2\")\n",
    "                .build();    \n",
    "                \n",
    "var iterator = graph.streamSnapshots( Map.of( \"input\", \"perform test once\" ), config );  \n",
    "\n",
    "for( var step : iterator ) {\n",
    "    log.info( \"STEP: {}\", step );\n",
    "}\n",
    "\n"
   ]
  },
  {
   "cell_type": "code",
   "execution_count": 11,
   "metadata": {},
   "outputs": [
    {
     "name": "stderr",
     "output_type": "stream",
     "text": [
      "2024-10-24 17:57:29 INFO REPL.$JShell$46 do_it$ UPDATED CONFIG: RunnableConfig(threadId=test2, checkPointId=b05cbb4e-a1e8-4b18-b9fc-bec88d729dde, nextNode=null, streamMode=VALUES)\n",
      "2024-10-24 17:57:29 FINEST org.bsc.langgraph4j.CompiledGraph$AsyncNodeGenerator <init> RESUME REQUEST\n",
      "2024-10-24 17:57:29 FINEST org.bsc.langgraph4j.CompiledGraph$AsyncNodeGenerator <init> RESUME FROM agent\n",
      "2024-10-24 17:57:29 FINEST org.bsc.langgraph4j.agentexecutor.AgentExecutor executeTools executeTools\n",
      "2024-10-24 17:57:29 FINEST org.bsc.langgraph4j.langchain4j.tool.ToolNode execute execute: execTest\n",
      "2024-10-24 17:57:29 FINEST org.bsc.langgraph4j.agentexecutor.AgentExecutor callAgent callAgent\n",
      "2024-10-24 17:57:30 INFO REPL.$JShell$47 do_it$ STEP:\n",
      " StateSnapshot{node=action, state={input=perform test twice, intermediate_steps=[IntermediateStep[action=AgentAction[toolExecutionRequest=ToolExecutionRequest { id = \"call_bHyrttIOlJ1yWp4YvpbssIDK\", name = \"execTest\", arguments = \"{\"message\":\"perform test once\"}\" }, log=], observation=test tool executed: perform test once]], agent_outcome=AgentOutcome[action=AgentAction[toolExecutionRequest=ToolExecutionRequest { id = \"call_bHyrttIOlJ1yWp4YvpbssIDK\", name = \"execTest\", arguments = \"{\"message\":\"perform test once\"}\" }, log=], finish=null]}, config=RunnableConfig(threadId=test2, checkPointId=d2b12020-5058-4ce1-b888-7e87d04f6691, nextNode=agent, streamMode=SNAPSHOTS)}\n",
      "2024-10-24 17:57:30 FINEST org.bsc.langgraph4j.agentexecutor.AgentExecutor executeTools executeTools\n",
      "2024-10-24 17:57:30 FINEST org.bsc.langgraph4j.langchain4j.tool.ToolNode execute execute: execTest\n",
      "2024-10-24 17:57:30 INFO REPL.$JShell$47 do_it$ STEP:\n",
      " StateSnapshot{node=agent, state={input=perform test twice, intermediate_steps=[IntermediateStep[action=AgentAction[toolExecutionRequest=ToolExecutionRequest { id = \"call_bHyrttIOlJ1yWp4YvpbssIDK\", name = \"execTest\", arguments = \"{\"message\":\"perform test once\"}\" }, log=], observation=test tool executed: perform test once]], agent_outcome=AgentOutcome[action=AgentAction[toolExecutionRequest=ToolExecutionRequest { id = \"call_eP56QWrZc6DQJJtez18C8zVL\", name = \"execTest\", arguments = \"{\"message\":\"perform test once\"}\" }, log=], finish=null]}, config=RunnableConfig(threadId=test2, checkPointId=a18fb247-cdd6-4b58-964b-4c275ce3e31f, nextNode=action, streamMode=SNAPSHOTS)}\n",
      "2024-10-24 17:57:30 FINEST org.bsc.langgraph4j.agentexecutor.AgentExecutor callAgent callAgent\n",
      "2024-10-24 17:57:31 INFO REPL.$JShell$47 do_it$ STEP:\n",
      " StateSnapshot{node=action, state={input=perform test twice, intermediate_steps=[IntermediateStep[action=AgentAction[toolExecutionRequest=ToolExecutionRequest { id = \"call_bHyrttIOlJ1yWp4YvpbssIDK\", name = \"execTest\", arguments = \"{\"message\":\"perform test once\"}\" }, log=], observation=test tool executed: perform test once], IntermediateStep[action=AgentAction[toolExecutionRequest=ToolExecutionRequest { id = \"call_eP56QWrZc6DQJJtez18C8zVL\", name = \"execTest\", arguments = \"{\"message\":\"perform test once\"}\" }, log=], observation=test tool executed: perform test once]], agent_outcome=AgentOutcome[action=AgentAction[toolExecutionRequest=ToolExecutionRequest { id = \"call_eP56QWrZc6DQJJtez18C8zVL\", name = \"execTest\", arguments = \"{\"message\":\"perform test once\"}\" }, log=], finish=null]}, config=RunnableConfig(threadId=test2, checkPointId=6dd8e19a-8af1-4ee2-9761-0a414aae8c50, nextNode=agent, streamMode=SNAPSHOTS)}\n",
      "2024-10-24 17:57:31 INFO REPL.$JShell$47 do_it$ STEP:\n",
      " StateSnapshot{node=agent, state={input=perform test twice, intermediate_steps=[IntermediateStep[action=AgentAction[toolExecutionRequest=ToolExecutionRequest { id = \"call_bHyrttIOlJ1yWp4YvpbssIDK\", name = \"execTest\", arguments = \"{\"message\":\"perform test once\"}\" }, log=], observation=test tool executed: perform test once], IntermediateStep[action=AgentAction[toolExecutionRequest=ToolExecutionRequest { id = \"call_eP56QWrZc6DQJJtez18C8zVL\", name = \"execTest\", arguments = \"{\"message\":\"perform test once\"}\" }, log=], observation=test tool executed: perform test once]], agent_outcome=AgentOutcome[action=null, finish=AgentFinish[returnValues={returnValues=The test was executed twice successfully. Here are the results:\n",
      "\n",
      "1. **Test 1:** test tool executed: perform test once\n",
      "2. **Test 2:** test tool executed: perform test once}, log=The test was executed twice successfully. Here are the results:\n",
      "\n",
      "1. **Test 1:** test tool executed: perform test once\n",
      "2. **Test 2:** test tool executed: perform test once]]}, config=RunnableConfig(threadId=test2, checkPointId=c15e98fa-9b66-4ce3-a9f9-257cadd619b4, nextNode=__END__, streamMode=SNAPSHOTS)}\n",
      "2024-10-24 17:57:31 INFO REPL.$JShell$47 do_it$ STEP:\n",
      " NodeOutput{node=__END__, state={input=perform test twice, intermediate_steps=[IntermediateStep[action=AgentAction[toolExecutionRequest=ToolExecutionRequest { id = \"call_bHyrttIOlJ1yWp4YvpbssIDK\", name = \"execTest\", arguments = \"{\"message\":\"perform test once\"}\" }, log=], observation=test tool executed: perform test once], IntermediateStep[action=AgentAction[toolExecutionRequest=ToolExecutionRequest { id = \"call_eP56QWrZc6DQJJtez18C8zVL\", name = \"execTest\", arguments = \"{\"message\":\"perform test once\"}\" }, log=], observation=test tool executed: perform test once]], agent_outcome=AgentOutcome[action=null, finish=AgentFinish[returnValues={returnValues=The test was executed twice successfully. Here are the results:\n",
      "\n",
      "1. **Test 1:** test tool executed: perform test once\n",
      "2. **Test 2:** test tool executed: perform test once}, log=The test was executed twice successfully. Here are the results:\n",
      "\n",
      "1. **Test 1:** test tool executed: perform test once\n",
      "2. **Test 2:** test tool executed: perform test once]]}}\n"
     ]
    }
   ],
   "source": [
    "var history = graph.getStateHistory(config).stream().collect( Collectors.toList() );\n",
    "\n",
    "var state2 =  history.get(2);\n",
    "\n",
    "var updatedState = new HashMap<String,Object>();\n",
    "updatedState.putAll(state2.state().data());\n",
    "\n",
    "//System.out.println( state2.state().data() );\n",
    "updatedState.put(  \"input\", \"perform test twice\"  );\n",
    "//System.out.println( updatedState );\n",
    "\n",
    "var updatedConfig = graph.updateState( state2.config(), updatedState );\n",
    "log.info( \"UPDATED CONFIG: {}\", updatedConfig );\n",
    "\n",
    "var iterator = graph.streamSnapshots( null, updatedConfig );  \n",
    "\n",
    "try {\n",
    "    for( var step : iterator ) {\n",
    "        log.info( \"STEP:\\n {}\", step );\n",
    "    }    \n",
    "}\n",
    "catch( Exception e ) {\n",
    "    Throwable t = e ;\n",
    "    while( t.getCause() != null ) {\n",
    "        t = t.getCause();\n",
    "    }\n",
    "    t.printStackTrace();\n",
    "}\n"
   ]
  }
 ],
 "metadata": {
  "kernelspec": {
   "display_name": "Java (rjk 2.1.0)",
   "language": "java",
   "name": "rapaio-jupyter-kernel"
  },
  "language_info": {
   "codemirror_mode": "java",
   "file_extension": ".jshell",
   "mimetype": "text/x-java-source",
   "name": "java",
   "nbconvert_exporter": "script",
   "pygments_lexer": "java",
   "version": "22.0.2+9-70"
  }
 },
 "nbformat": 4,
 "nbformat_minor": 2
}
