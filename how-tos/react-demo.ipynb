{
 "cells": [
  {
   "cell_type": "markdown",
   "metadata": {},
   "source": [
    "# Agent Demo\n",
    "\n",
    "Simple function calling using **langchain4j** framework\n",
    "\n",
    "![diagram](src/site/resources/ReACT.jpg)"
   ]
  },
  {
   "cell_type": "code",
   "execution_count": null,
   "metadata": {},
   "outputs": [],
   "source": [
    "String userHomeDir = System.getProperty(\"user.home\");\n",
    "String localRespoUrl = \"file://\" + userHomeDir + \"/.m2/repository/\";\n",
    "String langchain4jVersion = \"0.35.0\""
   ]
  },
  {
   "cell_type": "markdown",
   "metadata": {},
   "source": [
    "add local maven repository"
   ]
  },
  {
   "cell_type": "code",
   "execution_count": null,
   "metadata": {},
   "outputs": [],
   "source": [
    "%dependency /add-repo local \\{localRespoUrl} release|never snapshot|always\n",
    "%dependency /list-repos"
   ]
  },
  {
   "cell_type": "markdown",
   "metadata": {},
   "source": [
    "Remove installed package from Jupiter cache"
   ]
  },
  {
   "cell_type": "code",
   "execution_count": null,
   "metadata": {},
   "outputs": [],
   "source": [
    "%%bash \n",
    "rm -rf \\{userHomeDir}/Library/Jupyter/kernels/rapaio-jupyter-kernel/mima_cache/org/bsc/langgraph4j"
   ]
  },
  {
   "cell_type": "markdown",
   "metadata": {},
   "source": [
    "Install required maven dependencies"
   ]
  },
  {
   "cell_type": "code",
   "execution_count": null,
   "metadata": {},
   "outputs": [],
   "source": [
    "%dependency /add org.slf4j:slf4j-jdk14:2.0.9\n",
    "%dependency /add dev.langchain4j:langchain4j:\\{langchain4jVersion}\n",
    "%dependency /add dev.langchain4j:langchain4j-open-ai:\\{langchain4jVersion}\n",
    "\n",
    "%dependency /resolve"
   ]
  },
  {
   "cell_type": "markdown",
   "metadata": {},
   "source": [
    "Initialize Logger"
   ]
  },
  {
   "cell_type": "code",
   "execution_count": null,
   "metadata": {},
   "outputs": [],
   "source": [
    "try( var file = new java.io.FileInputStream(\"./logging.properties\")) {\n",
    "    var lm = java.util.logging.LogManager.getLogManager();\n",
    "    lm.checkAccess(); \n",
    "    lm.readConfiguration( file );\n",
    "}\n",
    "\n",
    "var log = org.slf4j.LoggerFactory.getLogger(\"AgentExecutor\");"
   ]
  },
  {
   "cell_type": "markdown",
   "metadata": {},
   "source": [
    "## Define Tools \n",
    "\n",
    "Define tools that will be used by Agent to perfrom actions"
   ]
  },
  {
   "cell_type": "code",
   "execution_count": null,
   "metadata": {},
   "outputs": [],
   "source": [
    "import dev.langchain4j.agent.tool.P;\n",
    "import dev.langchain4j.agent.tool.Tool;\n",
    "\n",
    "import java.util.Optional;\n",
    "\n",
    "import static java.lang.String.format;\n",
    "\n",
    "public class TestTool {\n",
    "    private String lastResult;\n",
    "\n",
    "    Optional<String> lastResult() {\n",
    "        return Optional.ofNullable(lastResult);\n",
    "    }\n",
    "\n",
    "    @Tool(\"tool for test AI agent executor\")\n",
    "    String execTest(@P(\"test message\") String message) {\n",
    "\n",
    "        lastResult = format( \"test tool executed: %s\", message);\n",
    "\n",
    "        log.info( \"exec test: {}\", lastResult );\n",
    "        return lastResult;\n",
    "    }\n",
    "}\n"
   ]
  },
  {
   "cell_type": "markdown",
   "metadata": {},
   "source": [
    "## Initialize LLM for Agent"
   ]
  },
  {
   "cell_type": "code",
   "execution_count": null,
   "metadata": {},
   "outputs": [],
   "source": [
    "import dev.langchain4j.model.openai.OpenAiChatModel;\n",
    "import java.util.List;\n",
    "import java.util.Map;\n",
    "import java.util.stream.Collectors;\n",
    "\n",
    "var llm = OpenAiChatModel.builder()\n",
    "    .apiKey( System.getenv(\"OPENAI_API_KEY\") )\n",
    "    .modelName( \"gpt-4o-mini\" )\n",
    "    .logResponses(true)\n",
    "    .maxRetries(2)\n",
    "    .temperature(0.0)\n",
    "    .maxTokens(2000)\n",
    "    .build();"
   ]
  },
  {
   "cell_type": "markdown",
   "metadata": {},
   "source": [
    "## Invoke Agent"
   ]
  },
  {
   "cell_type": "code",
   "execution_count": 12,
   "metadata": {},
   "outputs": [
    {
     "name": "stderr",
     "output_type": "stream",
     "text": [
      "2024-10-30 12:34:18 INFO REPL.$JShell$36 do_it$ AiMessage { text = null toolExecutionRequests = [ToolExecutionRequest { id = \"call_rHghrhB6DSlOCAVG1j1jgOSU\", name = \"execTest\", arguments = \"{\"message\":\"bartolomeo\"}\" }] }\n"
     ]
    }
   ],
   "source": [
    "import dev.langchain4j.agent.tool.ToolSpecification;\n",
    "import dev.langchain4j.agent.tool.ToolSpecifications;\n",
    "import dev.langchain4j.data.message.UserMessage;\n",
    "import dev.langchain4j.data.message.SystemMessage;\n",
    "import dev.langchain4j.data.message.AiMessage;\n",
    "import dev.langchain4j.model.output.Response;\n",
    "import dev.langchain4j.model.openai.OpenAiChatModel;\n",
    "\n",
    "var tools = ToolSpecifications.toolSpecificationsFrom( TestTool.class );\n",
    "\n",
    "var systemMessage = SystemMessage.from(\"you are my useful assistant\");\n",
    "var userMessage = UserMessage.from(\"Hi i'm bartolomeo! please test with my name as input\");\n",
    "Response<AiMessage> response = llm.generate(List.of(systemMessage, userMessage), tools );\n",
    "AiMessage aiMessage = response.content();\n",
    "\n",
    "log.info(  \"{}\", aiMessage );"
   ]
  },
  {
   "cell_type": "code",
   "execution_count": null,
   "metadata": {},
   "outputs": [],
   "source": [
    "import dev.langchain4j.agent.tool.Tool;\n",
    "import dev.langchain4j.agent.tool.ToolExecutionRequest;\n",
    "import dev.langchain4j.agent.tool.ToolSpecification;\n",
    "import dev.langchain4j.data.message.ToolExecutionResultMessage;\n",
    "import dev.langchain4j.service.tool.DefaultToolExecutor;\n",
    "import dev.langchain4j.service.tool.ToolExecutor;\n",
    "import static dev.langchain4j.agent.tool.ToolSpecifications.toolSpecificationFrom;\n",
    "\n",
    "import java.lang.reflect.Method;\n",
    "import java.util.*;\n",
    "import java.util.stream.Collectors;\n",
    "\n",
    "public class ToolNode {\n",
    "\n",
    "    record Specification( ToolSpecification value, ToolExecutor executor ) {;\n",
    "        \n",
    "        public Specification(Object objectWithTool, Method method ) {\n",
    "            this( toolSpecificationFrom(method), new DefaultToolExecutor(objectWithTool, method));\n",
    "        }\n",
    "    }\n",
    "\n",
    "    public static ToolNode of( Collection<Object> objectsWithTools) {\n",
    "\n",
    "        List<Specification> toolSpecifications = new ArrayList<>();\n",
    "\n",
    "        for (Object objectWithTool : objectsWithTools ) {\n",
    "            for (Method method : objectWithTool.getClass().getDeclaredMethods()) {\n",
    "                if (method.isAnnotationPresent(Tool.class)) {\n",
    "                    toolSpecifications.add( new Specification( objectWithTool, method));\n",
    "                }\n",
    "            }\n",
    "        }\n",
    "        return new ToolNode(toolSpecifications);\n",
    "    }\n",
    "\n",
    "    public static ToolNode of(Object ...objectsWithTools) {\n",
    "        return of( Arrays.asList(objectsWithTools) );\n",
    "    }\n",
    "\n",
    "    private final List<Specification> entries;\n",
    "\n",
    "    private ToolNode( List<Specification> entries) {\n",
    "        if( entries.isEmpty() ) {\n",
    "            throw new IllegalArgumentException(\"entries cannot be empty!\");\n",
    "        }\n",
    "        this.entries = entries;\n",
    "    }\n",
    "\n",
    "    public List<ToolSpecification> toolSpecifications() {\n",
    "        return this.entries.stream()\n",
    "                .map(Specification::value)\n",
    "                .collect(Collectors.toList());\n",
    "    }\n",
    "\n",
    "    public Optional<ToolExecutionResultMessage> execute( ToolExecutionRequest request, Object memoryId ) {\n",
    "        log.trace( \"execute: {}\", request.name() );\n",
    "\n",
    "        return entries.stream()\n",
    "                .filter( v -> v.value().name().equals(request.name()))\n",
    "                .findFirst()\n",
    "                .map( e -> {\n",
    "                    String value = e.executor().execute(request, memoryId);\n",
    "                    return new ToolExecutionResultMessage( request.id(), request.name(), value );\n",
    "                });\n",
    "    }\n",
    "\n",
    "    public Optional<ToolExecutionResultMessage> execute(Collection<ToolExecutionRequest> requests, Object memoryId ) {\n",
    "        for( ToolExecutionRequest request : requests ) {\n",
    "\n",
    "            Optional<ToolExecutionResultMessage> result = execute( request, memoryId );\n",
    "\n",
    "            if( result.isPresent() ) {\n",
    "                return result;\n",
    "            }\n",
    "        }\n",
    "        return Optional.empty();\n",
    "    }\n",
    "\n",
    "    public Optional<ToolExecutionResultMessage> execute( ToolExecutionRequest request ) {\n",
    "        return execute( request, null );\n",
    "    }\n",
    "\n",
    "    public Optional<ToolExecutionResultMessage> execute( Collection<ToolExecutionRequest> requests ) {\n",
    "        return execute( requests, null );\n",
    "    }\n",
    "\n",
    "}\n"
   ]
  },
  {
   "cell_type": "code",
   "execution_count": 24,
   "metadata": {},
   "outputs": [
    {
     "name": "stderr",
     "output_type": "stream",
     "text": [
      "2024-10-30 13:57:10 FINEST REPL.$JShell$43$ToolNode execute execute: execTest\n",
      "2024-10-30 13:57:10 INFO REPL.$JShell$15$TestTool execTest exec test: test tool executed: bartolomeo\n"
     ]
    },
    {
     "data": {
      "text/plain": [
       "test tool executed: bartolomeo"
      ]
     },
     "execution_count": 24,
     "metadata": {},
     "output_type": "execute_result"
    }
   ],
   "source": [
    "var toolNode = ToolNode.of( new TestTool() );\n",
    "\n",
    "toolNode.execute( aiMessage.toolExecutionRequests() )\n",
    "                    .map( m -> m.text() )\n",
    "                    .orElse( null );"
   ]
  },
  {
   "cell_type": "code",
   "execution_count": null,
   "metadata": {},
   "outputs": [],
   "source": []
  }
 ],
 "metadata": {
  "kernelspec": {
   "display_name": "Java (rjk 2.1.0)",
   "language": "java",
   "name": "rapaio-jupyter-kernel"
  },
  "language_info": {
   "codemirror_mode": "java",
   "file_extension": ".jshell",
   "mimetype": "text/x-java-source",
   "name": "java",
   "nbconvert_exporter": "script",
   "pygments_lexer": "java",
   "version": "22.0.2+9-70"
  }
 },
 "nbformat": 4,
 "nbformat_minor": 2
}
